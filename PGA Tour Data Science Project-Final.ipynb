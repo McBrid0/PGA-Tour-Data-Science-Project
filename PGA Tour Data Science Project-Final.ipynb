{
 "cells": [
  {
   "cell_type": "markdown",
   "metadata": {
    "collapsed": true
   },
   "source": [
    "# PGA Tour Web Scraping and Machine Learning Project"
   ]
  },
  {
   "cell_type": "markdown",
   "metadata": {},
   "source": [
    "AS an avid golf fan and asipring data scientist, I've always wanted to gather data from PGA Tour.com and do my own analysis on tour pro statistics. The following notebook walks you through my steps to collect, pre-process and clean, visualize and create a model to predict winners on the PGA. \n",
    "\n",
    "The data were collected from <a href='https://www.pgatour.com/'>pgatour.com</a> and includes PGA tour data from 2010-2017."
   ]
  },
  {
   "cell_type": "markdown",
   "metadata": {},
   "source": [
    "# <a id='TOC'>Table of Contents</a>\n",
    "<ol>\n",
    "<li><a href='#section 1'>Imports</a></li>\n",
    "<li><a href='#section_2'>Data Collection, cleaning, and preprocessing</a></li>\n",
    "<li><a href='#section_3'>Exploratory Data Analysis</a></li>\n",
    "<li><a href='#section_4'>Train, fit, and test machine learning model</a></li>\n",
    "<li><a href='#section_5'>Conclusion</a></li>\n",
    "\n",
    "\n",
    "\n",
    "</ol>"
   ]
  },
  {
   "cell_type": "markdown",
   "metadata": {},
   "source": [
    "# <a href='#section 1'>1. Imports</a>"
   ]
  },
  {
   "cell_type": "markdown",
   "metadata": {},
   "source": [
    "The three imports I used for this notebook were requests, pandas, and beautiful soup."
   ]
  },
  {
   "cell_type": "code",
   "execution_count": 1,
   "metadata": {
    "collapsed": true
   },
   "outputs": [],
   "source": [
    "#Imports\n",
    "import requests\n",
    "import pandas as pd\n",
    "from bs4 import BeautifulSoup"
   ]
  },
  {
   "cell_type": "markdown",
   "metadata": {},
   "source": [
    "# <a id='section_2'>2. Data Collection</a>\n",
    "<a href='#TOC'>Back to table of Contents</a>"
   ]
  },
  {
   "cell_type": "markdown",
   "metadata": {},
   "source": [
    "In order to collect the data I needed to perform the analysis, I had to utilize the beautiful soup package to web scrape the pgatour.com website. If you look at the <a href=\"https://www.pgatour.com/stats.html\">PGA tour stats page</a>, you'll notice the statistics are contained in different pages. For example, putting, driving and scoring statistics are all contained in different pages. \n",
    "\n",
    "For each page I created a function that:\n",
    "<ol>\n",
    "<li>Pulls column headers</li>\n",
    "<li>Pulls players from particular stats page</li>\n",
    "<li>Pulls statistics from page</li>\n",
    "<li>Create a dictionary to store player data in for particular stats page.</li>\n",
    "<li>Uses functions 1-4 to create a pandas dataframe to store data for that particular statistic.</li>\n",
    "<li>Loop through years 2010-2017 to create a dataframe from years 2010-2017</li>\n",
    "<li>Store results in a sqlite3 database for future use.</li>\n",
    "</ol>\n",
    "\n",
    "\n"
   ]
  },
  {
   "cell_type": "markdown",
   "metadata": {},
   "source": [
    "### 1. Pull column headers from page"
   ]
  },
  {
   "cell_type": "code",
   "execution_count": 2,
   "metadata": {
    "collapsed": true
   },
   "outputs": [],
   "source": [
    "def get_headers(soup):\n",
    "    '''This function get's the column names to use for the data frame.'''\n",
    "    headers = []\n",
    "    \n",
    "    #Get rounds header\n",
    "    rounds = soup.find_all(class_=\"rounds hidden-small hidden-medium\")[0].get_text()\n",
    "    headers.append(rounds)\n",
    "    \n",
    "    #Get other headers\n",
    "    stat_headers = soup.find_all(class_=\"col-stat hidden-small hidden-medium\")\n",
    "    for header in stat_headers:\n",
    "        headers.append(header.get_text())\n",
    "    \n",
    "    return headers"
   ]
  },
  {
   "cell_type": "markdown",
   "metadata": {},
   "source": [
    "### 2. Pull players from page"
   ]
  },
  {
   "cell_type": "code",
   "execution_count": 3,
   "metadata": {
    "collapsed": true
   },
   "outputs": [],
   "source": [
    "#Get Players\n",
    "def get_players(soup):\n",
    "    '''This function takes the beautiful soup created and uses it to gather player names from the specified stats page.'''\n",
    "    \n",
    "    player_list = []\n",
    "    \n",
    "    #Get player as html tags\n",
    "    players = soup.select('td a')[1:] #Use 1 beacuse first line of all tables is not useful.\n",
    "    #Loop through list\n",
    "    for player in players:\n",
    "        player_list.append(player.get_text())\n",
    "    \n",
    "    return player_list"
   ]
  },
  {
   "cell_type": "markdown",
   "metadata": {},
   "source": [
    "### 3. Pull statistics from page"
   ]
  },
  {
   "cell_type": "code",
   "execution_count": 4,
   "metadata": {
    "collapsed": true
   },
   "outputs": [],
   "source": [
    "##Get Stats\n",
    "def get_stats(soup, categories):\n",
    "    '''This function takes the soup created before and the number of categories needed to generate this'''\n",
    "    \n",
    "    #Finds all tags with class specified and puts into a list\n",
    "    stats = soup.find_all(class_=\"hidden-small hidden-medium\")\n",
    "    \n",
    "    #Initialize stats list\n",
    "    stat_list = []\n",
    "    \n",
    "    #Loop through \n",
    "    for i in range(0, len(stats)-categories+1, categories):\n",
    "        temp_list = []\n",
    "        for j in range(categories):\n",
    "            temp_list.append(stats[i + j].get_text())\n",
    "        stat_list.append(temp_list)\n",
    "            \n",
    "    return stat_list"
   ]
  },
  {
   "cell_type": "markdown",
   "metadata": {},
   "source": [
    "### 4. Create data dictionary for page"
   ]
  },
  {
   "cell_type": "code",
   "execution_count": 5,
   "metadata": {
    "collapsed": true
   },
   "outputs": [],
   "source": [
    "def stats_dict(players, stats):\n",
    "        '''This function takes two lists, players and stats, \n",
    "        and creates a dictionary with the player being the key \n",
    "        and the stats as the vales (as a list)'''\n",
    "    \n",
    "        #initialize player dictionary\n",
    "        player_dict = {}\n",
    "    \n",
    "        #Loop through player list\n",
    "        for i, player in enumerate(players):\n",
    "            player_dict[player] = stats[i]\n",
    "    \n",
    "        return player_dict"
   ]
  },
  {
   "cell_type": "markdown",
   "metadata": {},
   "source": [
    "### 5. Use functions 1-4 to create dataframe for statistic. \"make_dataframe\""
   ]
  },
  {
   "cell_type": "code",
   "execution_count": 6,
   "metadata": {
    "collapsed": true
   },
   "outputs": [],
   "source": [
    "##Mega function\n",
    "def make_dataframe(url, categories):\n",
    "        \n",
    "    ##Create soup object from url.\n",
    "    response = requests.get(url)\n",
    "    text = response.text\n",
    "    soup = BeautifulSoup(text, 'lxml')\n",
    "    \n",
    "    #1. Get Headers\n",
    "    headers = get_headers(soup)\n",
    "    \n",
    "    #2. Get Players\n",
    "    players = get_players(soup)\n",
    "    \n",
    "    #3. Get Stats\n",
    "    stats = get_stats(soup, categories)\n",
    "    \n",
    "    #4. Make stats dictionary.\n",
    "    stats_dictionary = stats_dict(players, stats)\n",
    "    \n",
    "    #Make dataframe\n",
    "    frame = pd.DataFrame(stats_dictionary, index = headers).T\n",
    "    \n",
    "    #Reset index\n",
    "    frame = frame.reset_index()\n",
    "    \n",
    "    #For each Dataframe, change index column to 'NAME'\n",
    "    frame = frame.rename(index = str, columns = {'index': 'NAME'})\n",
    "    return frame\n",
    "  "
   ]
  },
  {
   "cell_type": "markdown",
   "metadata": {},
   "source": [
    "### 6. Loop through years 2010-2017 to create a dataframe from years 2010-2017\n",
    "All of the data cleaning and preprocessing happens in the next couple of code blocks."
   ]
  },
  {
   "cell_type": "code",
   "execution_count": 12,
   "metadata": {},
   "outputs": [
    {
     "data": {
      "text/plain": [
       "[2017]"
      ]
     },
     "execution_count": 12,
     "metadata": {},
     "output_type": "execute_result"
    }
   ],
   "source": [
    "years = [str(i) for i in range(2010, 2018)]\n",
    "years"
   ]
  },
  {
   "cell_type": "code",
   "execution_count": 13,
   "metadata": {},
   "outputs": [
    {
     "name": "stdout",
     "output_type": "stream",
     "text": [
      "2017\n"
     ]
    }
   ],
   "source": [
    "for year in years:\n",
    "    print(year)\n",
    "    #Fedex cup points\n",
    "    fcp = make_dataframe(\"https://www.pgatour.com/stats/stat.02671.{}.html\".format(year), 6)[['NAME', 'POINTS']]\n",
    "    #Top 10's and wins\n",
    "    top10 = make_dataframe(\"https://www.pgatour.com/stats/stat.138.{}.html\".format(year), 5)[['NAME', 'TOP 10', '1ST']]\n",
    "\n",
    "    #Scoring statistics\n",
    "    scoring = make_dataframe(\"https://www.pgatour.com/stats/stat.120.{}.html\".format(year), 5)[['NAME', 'ROUNDS', 'AVG']]\n",
    "    scoring = scoring.rename(columns={'AVG':'SCORING AVG'})\n",
    "\n",
    "    #Driving Distance\n",
    "    drivedistance = make_dataframe(\"https://www.pgatour.com/stats/stat.101.{}.html\".format(year), 4)[['NAME', 'AVG.']]\n",
    "    #Rename Columns\n",
    "    drivedistance = drivedistance.rename(columns = {'AVG.':'AVG DRIVING DISTANCE.'})\n",
    "\n",
    "    #Driving Accuracy\n",
    "    driveacc = make_dataframe(\"https://www.pgatour.com/stats/stat.102.{}.html\".format(year), 4)[['NAME', '%']]\n",
    "    #Change column name from % to FWY %\n",
    "    driveacc = driveacc.rename(columns = {'%': \"FWY %\"})\n",
    "\n",
    "    #Greens in Regulation.\n",
    "    gir = make_dataframe(\"https://www.pgatour.com/stats/stat.103.{}.html\".format(year), 5)[['NAME', '%']]\n",
    "    #Change column name from % to GIR %\n",
    "    gir = gir.rename(columns = {'%': \"GIR %\"})\n",
    "\n",
    "    #Strokes gained putting\n",
    "    sg_putting = make_dataframe(\"https://www.pgatour.com/stats/stat.02564.{}.html\".format(year), 4)[['NAME', 'AVERAGE']]\n",
    "    #Change name of average column\n",
    "    sg_putting = sg_putting.rename(columns = {'AVERAGE': 'AVG STROKES GAINED PUTTING'})\n",
    "\n",
    "    #Strokes gained tee to green\n",
    "    sg_teetogreen = make_dataframe(\"https://www.pgatour.com/stats/stat.02674.{}.html\".format(year), 6)[['NAME', 'AVERAGE']]\n",
    "    #Change name of average column\n",
    "    sg_teetogreen = sg_teetogreen.rename(columns = {'AVERAGE' : 'AVG SG TEE TO GREEN'})\n",
    "\n",
    "    #sg total\n",
    "    sg_total = make_dataframe(\"https://www.pgatour.com/stats/stat.02675.{}.html\".format(year), 6)[['NAME', 'AVERAGE']]\n",
    "    sg_total = sg_total.rename(columns = {'AVERAGE':'AVG SG TOTAL'})\n",
    "    \n",
    "    #Get Dataframes into list.\n",
    "    data_frames = [drivedistance, driveacc, gir, sg_putting, sg_teetogreen, sg_total]\n",
    "    \n",
    "    #Merge all Dataframes together\n",
    "    df_one = pd.DataFrame()\n",
    "    df_one = scoring\n",
    "    for df in data_frames:\n",
    "        df_one = pd.merge(df_one, df, on='NAME')\n",
    "        \n",
    "    \n",
    "\n",
    "    #merge fex ex cup points\n",
    "    df_one = pd.merge(df_one, fcp, how='outer', on='NAME')\n",
    "    #Merge top 10's\n",
    "    df_one = pd.merge(df_one, top10, how='outer', on='NAME')\n",
    "    \n",
    "    #Only get people who's scoring average isn't null.\n",
    "    df_one = df_one.loc[df_one['SCORING AVG'].isnull() == False]  \n",
    "    \n",
    "    #Add year column\n",
    "    df_one['Year'] = year\n",
    "    \n",
    "    #Concat dataframe to overall dataframe\n",
    "    \n",
    "    if year == 2010:\n",
    "        df_total = pd.DataFrame()\n",
    "        df_total = pd.concat([df_total, df_one], axis=0)\n",
    "    else:\n",
    "        df_total = pd.concat([df_total, df_one], axis=0)\n",
    "    \n",
    "    \n",
    "    \n",
    "    \n",
    "\n",
    "    \n",
    "    \n",
    "    \n",
    "    \n",
    "    \n",
    "    \n",
    "        "
   ]
  },
  {
   "cell_type": "code",
   "execution_count": 15,
   "metadata": {},
   "outputs": [],
   "source": [
    "#Get rid of comma in points column\n",
    "#df_2017['POINTS'] = df_2017['POINTS'].apply(lambda x: str(x).replace(',', ''))\n",
    "    \n",
    "#Turn columns to numeric\n",
    "df_total[['1ST', 'ROUNDS', \"TOP 10\", 'SCORING AVG', 'AVG DRIVING DISTANCE.',\n",
    "       'FWY %', 'GIR %', 'AVG STROKES GAINED PUTTING', 'AVG SG TEE TO GREEN', 'AVG SG TOTAL']] = df_total[['1ST', 'ROUNDS', \"TOP 10\", 'SCORING AVG', 'AVG DRIVING DISTANCE.',\n",
    "       'FWY %', 'GIR %', 'AVG STROKES GAINED PUTTING', 'AVG SG TEE TO GREEN', 'AVG SG TOTAL']].apply(pd.to_numeric)\n",
    "\n",
    "#Create 300+ and winner column\n",
    "df_total['300+'] = df_total['AVG DRIVING DISTANCE.'].apply(lambda x: 1 if x>=300 else 0)\n",
    "df_total['Winner'] = df_total['1ST'].apply(lambda x: 1 if x >= 1 else 0)\n",
    "\n",
    "#Fill na values with zeros\n",
    "df_total.fillna(0, inplace=True)"
   ]
  },
  {
   "cell_type": "code",
   "execution_count": 16,
   "metadata": {
    "collapsed": true
   },
   "outputs": [],
   "source": [
    "df_total = df_total[['NAME', 'Year', 'POINTS', '1ST', 'TOP 10', 'ROUNDS', 'SCORING AVG',\n",
    "                   'AVG DRIVING DISTANCE.', 'AVG SG TEE TO GREEN', 'AVG STROKES GAINED PUTTING', 'AVG SG TOTAL',\n",
    "                   'FWY %', 'GIR %', '300+', 'Winner']]"
   ]
  },
  {
   "cell_type": "code",
   "execution_count": 17,
   "metadata": {
    "collapsed": true
   },
   "outputs": [],
   "source": [
    "df_total['POINTS'] = df_total['POINTS'].apply(lambda x: str(x))"
   ]
  },
  {
   "cell_type": "code",
   "execution_count": 18,
   "metadata": {
    "collapsed": true
   },
   "outputs": [],
   "source": [
    "df_total['POINTS'] = df_total['POINTS'].apply(lambda x: x.replace(',', ''))"
   ]
  },
  {
   "cell_type": "code",
   "execution_count": 19,
   "metadata": {
    "collapsed": true
   },
   "outputs": [],
   "source": [
    "df_total['POINTS'] = df_total['POINTS'].apply(pd.to_numeric)"
   ]
  },
  {
   "cell_type": "markdown",
   "metadata": {},
   "source": [
    "### 7. Store Data in Sqlite3 database"
   ]
  },
  {
   "cell_type": "code",
   "execution_count": 20,
   "metadata": {
    "collapsed": true
   },
   "outputs": [],
   "source": [
    "#Load sqlite package\n",
    "import sqlite3 as db\n",
    "#Create connect object with example db. A new file will be created.\n",
    "conn = db.connect('pgatour.db')\n",
    "\n",
    "#Create cursor to perform actions on db.\n",
    "c = conn.cursor()"
   ]
  },
  {
   "cell_type": "code",
   "execution_count": 21,
   "metadata": {},
   "outputs": [
    {
     "name": "stderr",
     "output_type": "stream",
     "text": [
      "C:\\Users\\daron\\AppData\\Local\\Continuum\\anaconda3\\lib\\site-packages\\pandas\\core\\generic.py:1362: UserWarning: The spaces in these column names will not be changed. In pandas versions < 0.14, spaces were converted to underscores.\n",
      "  chunksize=chunksize, dtype=dtype)\n"
     ]
    }
   ],
   "source": [
    "df_total.to_sql(\"pgatour\", conn, if_exists='replace')"
   ]
  },
  {
   "cell_type": "markdown",
   "metadata": {},
   "source": [
    "# 3. <a id='section_3'>Exploratory Data Analysis</a>\n",
    "<a href='#TOC'>Back to table of Contents</a>\n"
   ]
  },
  {
   "cell_type": "markdown",
   "metadata": {},
   "source": [
    "First, I'll take a look at the .info(), .describe(), and head methods to get a feel for the dataset."
   ]
  },
  {
   "cell_type": "code",
   "execution_count": 27,
   "metadata": {},
   "outputs": [],
   "source": [
    "df = pd.read_sql_query(\"select * from pgatour;\", conn).drop('index', axis=1).set_index('NAME').reset_index()"
   ]
  },
  {
   "cell_type": "code",
   "execution_count": 28,
   "metadata": {},
   "outputs": [
    {
     "data": {
      "text/html": [
       "<div>\n",
       "<style>\n",
       "    .dataframe thead tr:only-child th {\n",
       "        text-align: right;\n",
       "    }\n",
       "\n",
       "    .dataframe thead th {\n",
       "        text-align: left;\n",
       "    }\n",
       "\n",
       "    .dataframe tbody tr th {\n",
       "        vertical-align: top;\n",
       "    }\n",
       "</style>\n",
       "<table border=\"1\" class=\"dataframe\">\n",
       "  <thead>\n",
       "    <tr style=\"text-align: right;\">\n",
       "      <th></th>\n",
       "      <th>NAME</th>\n",
       "      <th>Year</th>\n",
       "      <th>POINTS</th>\n",
       "      <th>1ST</th>\n",
       "      <th>TOP 10</th>\n",
       "      <th>ROUNDS</th>\n",
       "      <th>SCORING AVG</th>\n",
       "      <th>AVG DRIVING DISTANCE.</th>\n",
       "      <th>AVG SG TEE TO GREEN</th>\n",
       "      <th>AVG STROKES GAINED PUTTING</th>\n",
       "      <th>AVG SG TOTAL</th>\n",
       "      <th>FWY %</th>\n",
       "      <th>GIR %</th>\n",
       "      <th>300+</th>\n",
       "      <th>Winner</th>\n",
       "    </tr>\n",
       "  </thead>\n",
       "  <tbody>\n",
       "    <tr>\n",
       "      <th>0</th>\n",
       "      <td>Aaron Baddeley</td>\n",
       "      <td>2010</td>\n",
       "      <td>559</td>\n",
       "      <td>0.0</td>\n",
       "      <td>2.0</td>\n",
       "      <td>94</td>\n",
       "      <td>70.995</td>\n",
       "      <td>298.9</td>\n",
       "      <td>-0.294</td>\n",
       "      <td>0.509</td>\n",
       "      <td>0.208</td>\n",
       "      <td>56.65</td>\n",
       "      <td>64.60</td>\n",
       "      <td>0</td>\n",
       "      <td>0</td>\n",
       "    </tr>\n",
       "    <tr>\n",
       "      <th>1</th>\n",
       "      <td>Adam Scott</td>\n",
       "      <td>2010</td>\n",
       "      <td>640</td>\n",
       "      <td>1.0</td>\n",
       "      <td>4.0</td>\n",
       "      <td>70</td>\n",
       "      <td>70.468</td>\n",
       "      <td>294.4</td>\n",
       "      <td>1.609</td>\n",
       "      <td>-0.746</td>\n",
       "      <td>0.862</td>\n",
       "      <td>62.93</td>\n",
       "      <td>69.61</td>\n",
       "      <td>0</td>\n",
       "      <td>1</td>\n",
       "    </tr>\n",
       "    <tr>\n",
       "      <th>2</th>\n",
       "      <td>Alex Cejka</td>\n",
       "      <td>2010</td>\n",
       "      <td>489</td>\n",
       "      <td>0.0</td>\n",
       "      <td>4.0</td>\n",
       "      <td>81</td>\n",
       "      <td>71.219</td>\n",
       "      <td>277.4</td>\n",
       "      <td>0.396</td>\n",
       "      <td>-0.466</td>\n",
       "      <td>-0.073</td>\n",
       "      <td>70.31</td>\n",
       "      <td>66.60</td>\n",
       "      <td>0</td>\n",
       "      <td>0</td>\n",
       "    </tr>\n",
       "    <tr>\n",
       "      <th>3</th>\n",
       "      <td>Alex Prugh</td>\n",
       "      <td>2010</td>\n",
       "      <td>526</td>\n",
       "      <td>0.0</td>\n",
       "      <td>4.0</td>\n",
       "      <td>88</td>\n",
       "      <td>70.878</td>\n",
       "      <td>295.7</td>\n",
       "      <td>-0.112</td>\n",
       "      <td>0.202</td>\n",
       "      <td>0.092</td>\n",
       "      <td>58.40</td>\n",
       "      <td>68.60</td>\n",
       "      <td>0</td>\n",
       "      <td>0</td>\n",
       "    </tr>\n",
       "    <tr>\n",
       "      <th>4</th>\n",
       "      <td>Andres Romero</td>\n",
       "      <td>2010</td>\n",
       "      <td>853</td>\n",
       "      <td>0.0</td>\n",
       "      <td>2.0</td>\n",
       "      <td>73</td>\n",
       "      <td>70.986</td>\n",
       "      <td>296.0</td>\n",
       "      <td>-0.118</td>\n",
       "      <td>0.254</td>\n",
       "      <td>0.136</td>\n",
       "      <td>55.05</td>\n",
       "      <td>65.07</td>\n",
       "      <td>0</td>\n",
       "      <td>0</td>\n",
       "    </tr>\n",
       "  </tbody>\n",
       "</table>\n",
       "</div>"
      ],
      "text/plain": [
       "             NAME  Year  POINTS  1ST  TOP 10  ROUNDS  SCORING AVG  \\\n",
       "0  Aaron Baddeley  2010     559  0.0     2.0      94       70.995   \n",
       "1      Adam Scott  2010     640  1.0     4.0      70       70.468   \n",
       "2      Alex Cejka  2010     489  0.0     4.0      81       71.219   \n",
       "3      Alex Prugh  2010     526  0.0     4.0      88       70.878   \n",
       "4   Andres Romero  2010     853  0.0     2.0      73       70.986   \n",
       "\n",
       "   AVG DRIVING DISTANCE.  AVG SG TEE TO GREEN  AVG STROKES GAINED PUTTING  \\\n",
       "0                  298.9               -0.294                       0.509   \n",
       "1                  294.4                1.609                      -0.746   \n",
       "2                  277.4                0.396                      -0.466   \n",
       "3                  295.7               -0.112                       0.202   \n",
       "4                  296.0               -0.118                       0.254   \n",
       "\n",
       "   AVG SG TOTAL  FWY %  GIR %  300+  Winner  \n",
       "0         0.208  56.65  64.60     0       0  \n",
       "1         0.862  62.93  69.61     0       1  \n",
       "2        -0.073  70.31  66.60     0       0  \n",
       "3         0.092  58.40  68.60     0       0  \n",
       "4         0.136  55.05  65.07     0       0  "
      ]
     },
     "execution_count": 28,
     "metadata": {},
     "output_type": "execute_result"
    }
   ],
   "source": [
    "df.head()"
   ]
  },
  {
   "cell_type": "code",
   "execution_count": 98,
   "metadata": {},
   "outputs": [
    {
     "name": "stdout",
     "output_type": "stream",
     "text": [
      "<class 'pandas.core.frame.DataFrame'>\n",
      "Int64Index: 1485 entries, 0 to 184\n",
      "Data columns (total 15 columns):\n",
      "NAME                          1485 non-null object\n",
      "Year                          1485 non-null object\n",
      "POINTS                        1485 non-null int64\n",
      "1ST                           1485 non-null float64\n",
      "TOP 10                        1485 non-null float64\n",
      "ROUNDS                        1485 non-null int64\n",
      "SCORING AVG                   1485 non-null float64\n",
      "AVG DRIVING DISTANCE.         1485 non-null float64\n",
      "AVG SG TEE TO GREEN           1485 non-null float64\n",
      "AVG STROKES GAINED PUTTING    1485 non-null float64\n",
      "AVG SG TOTAL                  1485 non-null float64\n",
      "FWY %                         1485 non-null float64\n",
      "GIR %                         1485 non-null float64\n",
      "300+                          1485 non-null int64\n",
      "Winner                        1485 non-null int64\n",
      "dtypes: float64(9), int64(4), object(2)\n",
      "memory usage: 225.6+ KB\n"
     ]
    }
   ],
   "source": [
    "df_2017.info()"
   ]
  },
  {
   "cell_type": "markdown",
   "metadata": {},
   "source": [
    "Observations: 1485 total rows, no missing data, 15 total columns, 13 are numeric and 2 are not (year and Name)"
   ]
  },
  {
   "cell_type": "code",
   "execution_count": 99,
   "metadata": {},
   "outputs": [
    {
     "data": {
      "text/html": [
       "<div>\n",
       "<style>\n",
       "    .dataframe thead tr:only-child th {\n",
       "        text-align: right;\n",
       "    }\n",
       "\n",
       "    .dataframe thead th {\n",
       "        text-align: left;\n",
       "    }\n",
       "\n",
       "    .dataframe tbody tr th {\n",
       "        vertical-align: top;\n",
       "    }\n",
       "</style>\n",
       "<table border=\"1\" class=\"dataframe\">\n",
       "  <thead>\n",
       "    <tr style=\"text-align: right;\">\n",
       "      <th></th>\n",
       "      <th>POINTS</th>\n",
       "      <th>1ST</th>\n",
       "      <th>TOP 10</th>\n",
       "      <th>ROUNDS</th>\n",
       "      <th>SCORING AVG</th>\n",
       "      <th>AVG DRIVING DISTANCE.</th>\n",
       "      <th>AVG SG TEE TO GREEN</th>\n",
       "      <th>AVG STROKES GAINED PUTTING</th>\n",
       "      <th>AVG SG TOTAL</th>\n",
       "      <th>FWY %</th>\n",
       "      <th>GIR %</th>\n",
       "      <th>300+</th>\n",
       "      <th>Winner</th>\n",
       "    </tr>\n",
       "  </thead>\n",
       "  <tbody>\n",
       "    <tr>\n",
       "      <th>count</th>\n",
       "      <td>1485.000000</td>\n",
       "      <td>1485.000000</td>\n",
       "      <td>1485.000000</td>\n",
       "      <td>1485.000000</td>\n",
       "      <td>1485.000000</td>\n",
       "      <td>1485.000000</td>\n",
       "      <td>1485.000000</td>\n",
       "      <td>1485.000000</td>\n",
       "      <td>1485.000000</td>\n",
       "      <td>1485.000000</td>\n",
       "      <td>1485.000000</td>\n",
       "      <td>1485.000000</td>\n",
       "      <td>1485.000000</td>\n",
       "    </tr>\n",
       "    <tr>\n",
       "      <th>mean</th>\n",
       "      <td>682.694276</td>\n",
       "      <td>0.233670</td>\n",
       "      <td>2.660606</td>\n",
       "      <td>78.449832</td>\n",
       "      <td>70.928214</td>\n",
       "      <td>290.050168</td>\n",
       "      <td>0.120712</td>\n",
       "      <td>0.021855</td>\n",
       "      <td>0.142578</td>\n",
       "      <td>61.434310</td>\n",
       "      <td>65.567273</td>\n",
       "      <td>0.124579</td>\n",
       "      <td>0.183838</td>\n",
       "    </tr>\n",
       "    <tr>\n",
       "      <th>std</th>\n",
       "      <td>524.100289</td>\n",
       "      <td>0.574572</td>\n",
       "      <td>2.450720</td>\n",
       "      <td>14.266512</td>\n",
       "      <td>0.688331</td>\n",
       "      <td>8.733330</td>\n",
       "      <td>0.639291</td>\n",
       "      <td>0.347419</td>\n",
       "      <td>0.692763</td>\n",
       "      <td>5.079918</td>\n",
       "      <td>2.705614</td>\n",
       "      <td>0.330352</td>\n",
       "      <td>0.387483</td>\n",
       "    </tr>\n",
       "    <tr>\n",
       "      <th>min</th>\n",
       "      <td>0.000000</td>\n",
       "      <td>0.000000</td>\n",
       "      <td>0.000000</td>\n",
       "      <td>45.000000</td>\n",
       "      <td>68.827000</td>\n",
       "      <td>266.400000</td>\n",
       "      <td>-3.340000</td>\n",
       "      <td>-1.475000</td>\n",
       "      <td>-3.209000</td>\n",
       "      <td>43.020000</td>\n",
       "      <td>53.540000</td>\n",
       "      <td>0.000000</td>\n",
       "      <td>0.000000</td>\n",
       "    </tr>\n",
       "    <tr>\n",
       "      <th>25%</th>\n",
       "      <td>322.000000</td>\n",
       "      <td>0.000000</td>\n",
       "      <td>1.000000</td>\n",
       "      <td>68.000000</td>\n",
       "      <td>70.503000</td>\n",
       "      <td>284.200000</td>\n",
       "      <td>-0.265000</td>\n",
       "      <td>-0.193000</td>\n",
       "      <td>-0.266000</td>\n",
       "      <td>57.950000</td>\n",
       "      <td>63.760000</td>\n",
       "      <td>0.000000</td>\n",
       "      <td>0.000000</td>\n",
       "    </tr>\n",
       "    <tr>\n",
       "      <th>50%</th>\n",
       "      <td>549.000000</td>\n",
       "      <td>0.000000</td>\n",
       "      <td>2.000000</td>\n",
       "      <td>79.000000</td>\n",
       "      <td>70.909000</td>\n",
       "      <td>289.700000</td>\n",
       "      <td>0.133000</td>\n",
       "      <td>0.039000</td>\n",
       "      <td>0.139000</td>\n",
       "      <td>61.430000</td>\n",
       "      <td>65.730000</td>\n",
       "      <td>0.000000</td>\n",
       "      <td>0.000000</td>\n",
       "    </tr>\n",
       "    <tr>\n",
       "      <th>75%</th>\n",
       "      <td>937.000000</td>\n",
       "      <td>0.000000</td>\n",
       "      <td>4.000000</td>\n",
       "      <td>89.000000</td>\n",
       "      <td>71.348000</td>\n",
       "      <td>295.600000</td>\n",
       "      <td>0.535000</td>\n",
       "      <td>0.257000</td>\n",
       "      <td>0.564000</td>\n",
       "      <td>64.900000</td>\n",
       "      <td>67.420000</td>\n",
       "      <td>0.000000</td>\n",
       "      <td>0.000000</td>\n",
       "    </tr>\n",
       "    <tr>\n",
       "      <th>max</th>\n",
       "      <td>4750.000000</td>\n",
       "      <td>5.000000</td>\n",
       "      <td>15.000000</td>\n",
       "      <td>120.000000</td>\n",
       "      <td>74.400000</td>\n",
       "      <td>318.400000</td>\n",
       "      <td>2.347000</td>\n",
       "      <td>1.130000</td>\n",
       "      <td>2.406000</td>\n",
       "      <td>76.880000</td>\n",
       "      <td>73.520000</td>\n",
       "      <td>1.000000</td>\n",
       "      <td>1.000000</td>\n",
       "    </tr>\n",
       "  </tbody>\n",
       "</table>\n",
       "</div>"
      ],
      "text/plain": [
       "            POINTS          1ST       TOP 10       ROUNDS  SCORING AVG  \\\n",
       "count  1485.000000  1485.000000  1485.000000  1485.000000  1485.000000   \n",
       "mean    682.694276     0.233670     2.660606    78.449832    70.928214   \n",
       "std     524.100289     0.574572     2.450720    14.266512     0.688331   \n",
       "min       0.000000     0.000000     0.000000    45.000000    68.827000   \n",
       "25%     322.000000     0.000000     1.000000    68.000000    70.503000   \n",
       "50%     549.000000     0.000000     2.000000    79.000000    70.909000   \n",
       "75%     937.000000     0.000000     4.000000    89.000000    71.348000   \n",
       "max    4750.000000     5.000000    15.000000   120.000000    74.400000   \n",
       "\n",
       "       AVG DRIVING DISTANCE.  AVG SG TEE TO GREEN  AVG STROKES GAINED PUTTING  \\\n",
       "count            1485.000000          1485.000000                 1485.000000   \n",
       "mean              290.050168             0.120712                    0.021855   \n",
       "std                 8.733330             0.639291                    0.347419   \n",
       "min               266.400000            -3.340000                   -1.475000   \n",
       "25%               284.200000            -0.265000                   -0.193000   \n",
       "50%               289.700000             0.133000                    0.039000   \n",
       "75%               295.600000             0.535000                    0.257000   \n",
       "max               318.400000             2.347000                    1.130000   \n",
       "\n",
       "       AVG SG TOTAL        FWY %        GIR %         300+       Winner  \n",
       "count   1485.000000  1485.000000  1485.000000  1485.000000  1485.000000  \n",
       "mean       0.142578    61.434310    65.567273     0.124579     0.183838  \n",
       "std        0.692763     5.079918     2.705614     0.330352     0.387483  \n",
       "min       -3.209000    43.020000    53.540000     0.000000     0.000000  \n",
       "25%       -0.266000    57.950000    63.760000     0.000000     0.000000  \n",
       "50%        0.139000    61.430000    65.730000     0.000000     0.000000  \n",
       "75%        0.564000    64.900000    67.420000     0.000000     0.000000  \n",
       "max        2.406000    76.880000    73.520000     1.000000     1.000000  "
      ]
     },
     "execution_count": 99,
     "metadata": {},
     "output_type": "execute_result"
    }
   ],
   "source": [
    "df_2017.describe()"
   ]
  },
  {
   "cell_type": "code",
   "execution_count": 137,
   "metadata": {},
   "outputs": [
    {
     "data": {
      "text/html": [
       "<div>\n",
       "<style>\n",
       "    .dataframe thead tr:only-child th {\n",
       "        text-align: right;\n",
       "    }\n",
       "\n",
       "    .dataframe thead th {\n",
       "        text-align: left;\n",
       "    }\n",
       "\n",
       "    .dataframe tbody tr th {\n",
       "        vertical-align: top;\n",
       "    }\n",
       "</style>\n",
       "<table border=\"1\" class=\"dataframe\">\n",
       "  <thead>\n",
       "    <tr style=\"text-align: right;\">\n",
       "      <th></th>\n",
       "      <th>NAME</th>\n",
       "      <th>Year</th>\n",
       "      <th>POINTS</th>\n",
       "      <th>1ST</th>\n",
       "      <th>TOP 10</th>\n",
       "      <th>ROUNDS</th>\n",
       "      <th>SCORING AVG</th>\n",
       "      <th>AVG DRIVING DISTANCE.</th>\n",
       "      <th>AVG SG TEE TO GREEN</th>\n",
       "      <th>AVG STROKES GAINED PUTTING</th>\n",
       "      <th>AVG SG TOTAL</th>\n",
       "      <th>FWY %</th>\n",
       "      <th>GIR %</th>\n",
       "      <th>300+</th>\n",
       "    </tr>\n",
       "    <tr>\n",
       "      <th>Winner</th>\n",
       "      <th></th>\n",
       "      <th></th>\n",
       "      <th></th>\n",
       "      <th></th>\n",
       "      <th></th>\n",
       "      <th></th>\n",
       "      <th></th>\n",
       "      <th></th>\n",
       "      <th></th>\n",
       "      <th></th>\n",
       "      <th></th>\n",
       "      <th></th>\n",
       "      <th></th>\n",
       "      <th></th>\n",
       "    </tr>\n",
       "  </thead>\n",
       "  <tbody>\n",
       "    <tr>\n",
       "      <th>0</th>\n",
       "      <td>1372</td>\n",
       "      <td>1372</td>\n",
       "      <td>1372</td>\n",
       "      <td>1372</td>\n",
       "      <td>1372</td>\n",
       "      <td>1372</td>\n",
       "      <td>1372</td>\n",
       "      <td>1372</td>\n",
       "      <td>1372</td>\n",
       "      <td>1372</td>\n",
       "      <td>1372</td>\n",
       "      <td>1372</td>\n",
       "      <td>1372</td>\n",
       "      <td>1372</td>\n",
       "    </tr>\n",
       "    <tr>\n",
       "      <th>1</th>\n",
       "      <td>305</td>\n",
       "      <td>305</td>\n",
       "      <td>305</td>\n",
       "      <td>305</td>\n",
       "      <td>305</td>\n",
       "      <td>305</td>\n",
       "      <td>305</td>\n",
       "      <td>305</td>\n",
       "      <td>305</td>\n",
       "      <td>305</td>\n",
       "      <td>305</td>\n",
       "      <td>305</td>\n",
       "      <td>305</td>\n",
       "      <td>305</td>\n",
       "    </tr>\n",
       "  </tbody>\n",
       "</table>\n",
       "</div>"
      ],
      "text/plain": [
       "        NAME  Year  POINTS   1ST  TOP 10  ROUNDS  SCORING AVG  \\\n",
       "Winner                                                          \n",
       "0       1372  1372    1372  1372    1372    1372         1372   \n",
       "1        305   305     305   305     305     305          305   \n",
       "\n",
       "        AVG DRIVING DISTANCE.  AVG SG TEE TO GREEN  \\\n",
       "Winner                                               \n",
       "0                        1372                 1372   \n",
       "1                         305                  305   \n",
       "\n",
       "        AVG STROKES GAINED PUTTING  AVG SG TOTAL  FWY %  GIR %  300+  \n",
       "Winner                                                                \n",
       "0                             1372          1372   1372   1372  1372  \n",
       "1                              305           305    305    305   305  "
      ]
     },
     "execution_count": 137,
     "metadata": {},
     "output_type": "execute_result"
    }
   ],
   "source": [
    "df.groupby('Winner').count()"
   ]
  },
  {
   "cell_type": "markdown",
   "metadata": {},
   "source": [
    "One important thing I will keep in mind when implementing my final machine learning algorithm is the imbalance in the Winner (1) vs non-winner class(0). Because there is this imbalance, it might be difficult for the algorithm to detect winners."
   ]
  },
  {
   "cell_type": "markdown",
   "metadata": {},
   "source": [
    "### Vizualizations"
   ]
  },
  {
   "cell_type": "code",
   "execution_count": 29,
   "metadata": {
    "collapsed": true
   },
   "outputs": [],
   "source": [
    "#Import plotting libs\n",
    "import seaborn as sns\n",
    "import matplotlib.pyplot as plt\n",
    "%matplotlib inline"
   ]
  },
  {
   "cell_type": "markdown",
   "metadata": {},
   "source": [
    "### Scoring Average Over Time"
   ]
  },
  {
   "cell_type": "code",
   "execution_count": 94,
   "metadata": {},
   "outputs": [
    {
     "data": {
      "text/plain": [
       "Text(0.5,1,'Scoring Averages Since 2010 on PGA Tour')"
      ]
     },
     "execution_count": 94,
     "metadata": {},
     "output_type": "execute_result"
    },
    {
     "data": {
      "image/png": "[encoded data removed]",
      "text/plain": [
       "<matplotlib.figure.Figure at 0x1db558b55c0>"
      ]
     },
     "metadata": {},
     "output_type": "display_data"
    }
   ],
   "source": [
    "plt.figure(figsize=(12, 6))\n",
    "plt.plot(df.groupby('Year').mean()['SCORING AVG'], marker='o', markerfacecolor='red', markersize = 12)\n",
    "plt.xlabel('Year')\n",
    "plt.ylabel('Scoring Avg')\n",
    "plt.title('Scoring Averages Since 2010 on PGA Tour')"
   ]
  },
  {
   "cell_type": "markdown",
   "metadata": {},
   "source": [
    "Observations: Scoring Average for players on the PGA tour has varied over time. \n"
   ]
  },
  {
   "cell_type": "markdown",
   "metadata": {},
   "source": [
    "### Scatterplot of AVG DRIVING DISTANCE. VS FWY %"
   ]
  },
  {
   "cell_type": "code",
   "execution_count": 101,
   "metadata": {},
   "outputs": [
    {
     "data": {
      "text/plain": [
       "<seaborn.axisgrid.FacetGrid at 0x1db57215048>"
      ]
     },
     "execution_count": 101,
     "metadata": {},
     "output_type": "execute_result"
    },
    {
     "data": {
      "image/png": "[encoded data removed]",
      "text/plain": [
       "<matplotlib.figure.Figure at 0x1db5720ec50>"
      ]
     },
     "metadata": {},
     "output_type": "display_data"
    }
   ],
   "source": [
    "sns.lmplot(x='AVG DRIVING DISTANCE.', y='FWY %', data=df)"
   ]
  },
  {
   "cell_type": "markdown",
   "metadata": {},
   "source": [
    "Observations: AVG DRIVING DISTANCE is negatively correlated with FWY %"
   ]
  },
  {
   "cell_type": "markdown",
   "metadata": {},
   "source": [
    "### FED EX Cup Points Over Time Separated by avg drivers over 300 yards and not over 300 yards"
   ]
  },
  {
   "cell_type": "code",
   "execution_count": 100,
   "metadata": {},
   "outputs": [
    {
     "data": {
      "text/plain": [
       "<matplotlib.axes._subplots.AxesSubplot at 0x1db558c53c8>"
      ]
     },
     "execution_count": 100,
     "metadata": {},
     "output_type": "execute_result"
    },
    {
     "data": {
      "image/png": "[encoded data removed]",
      "text/plain": [
       "<matplotlib.figure.Figure at 0x1db55476278>"
      ]
     },
     "metadata": {},
     "output_type": "display_data"
    }
   ],
   "source": [
    "plt.figure(figsize=(12, 8))\n",
    "sns.boxplot(x='Year', y='POINTS', hue='300+', data=df)"
   ]
  },
  {
   "cell_type": "markdown",
   "metadata": {},
   "source": [
    "Observations: With the exception of the 2013 season, individuals who drove the ball over 300 yards tended to gain more fex ex cup points on average."
   ]
  },
  {
   "cell_type": "markdown",
   "metadata": {},
   "source": [
    "### Average driving distance over time broken separated by winners and non winners"
   ]
  },
  {
   "cell_type": "code",
   "execution_count": 99,
   "metadata": {},
   "outputs": [
    {
     "data": {
      "text/plain": [
       "<matplotlib.axes._subplots.AxesSubplot at 0x1db55709f98>"
      ]
     },
     "execution_count": 99,
     "metadata": {},
     "output_type": "execute_result"
    },
    {
     "data": {
      "image/png": "[encoded data removed]",
      "text/plain": [
       "<matplotlib.figure.Figure at 0x1db555cb438>"
      ]
     },
     "metadata": {},
     "output_type": "display_data"
    }
   ],
   "source": [
    "plt.figure(figsize=(12, 8))\n",
    "sns.boxplot(x='Year', y='AVG DRIVING DISTANCE.', hue='Winner', data=df)"
   ]
  },
  {
   "cell_type": "markdown",
   "metadata": {},
   "source": [
    "Observations: Tournament winners tend to drive the ball further than non-tournament winners"
   ]
  },
  {
   "cell_type": "markdown",
   "metadata": {},
   "source": [
    "### Scoring Average Over time separated by 300+ drivers."
   ]
  },
  {
   "cell_type": "code",
   "execution_count": 103,
   "metadata": {},
   "outputs": [
    {
     "data": {
      "text/plain": [
       "<matplotlib.axes._subplots.AxesSubplot at 0x1db5726aa20>"
      ]
     },
     "execution_count": 103,
     "metadata": {},
     "output_type": "execute_result"
    },
    {
     "data": {
      "image/png": "[encoded data removed]",
      "text/plain": [
       "<matplotlib.figure.Figure at 0x1db5726aa90>"
      ]
     },
     "metadata": {},
     "output_type": "display_data"
    }
   ],
   "source": [
    "plt.figure(figsize=(12, 8))\n",
    "sns.boxplot(x = 'Year', y = 'SCORING AVG', hue='300+', data = df)"
   ]
  },
  {
   "cell_type": "markdown",
   "metadata": {},
   "source": [
    "Observations: Longer drivers tend to have a lower scoring average."
   ]
  },
  {
   "cell_type": "markdown",
   "metadata": {},
   "source": [
    "### Fairway % over time separated by tournament and non-tournament winners"
   ]
  },
  {
   "cell_type": "code",
   "execution_count": 132,
   "metadata": {},
   "outputs": [
    {
     "data": {
      "text/plain": [
       "<matplotlib.axes._subplots.AxesSubplot at 0x17e5cb3ea20>"
      ]
     },
     "execution_count": 132,
     "metadata": {},
     "output_type": "execute_result"
    },
    {
     "data": {
      "image/png": "[encoded data removed]",
      "text/plain": [
       "<matplotlib.figure.Figure at 0x17e5cc9aef0>"
      ]
     },
     "metadata": {},
     "output_type": "display_data"
    }
   ],
   "source": [
    "plt.figure(figsize=(12,8))\n",
    "sns.boxplot(x='Year', y='FWY %', hue='Winner', data=df_total)"
   ]
  },
  {
   "cell_type": "markdown",
   "metadata": {},
   "source": [
    "Observations: There doesn't appear to be a trend with winning tournaments and Fairway %"
   ]
  },
  {
   "cell_type": "markdown",
   "metadata": {},
   "source": [
    "### Number of individuals who drive the ball over 300 yards for each year in dataset"
   ]
  },
  {
   "cell_type": "code",
   "execution_count": 104,
   "metadata": {},
   "outputs": [
    {
     "data": {
      "text/plain": [
       "<matplotlib.axes._subplots.AxesSubplot at 0x17e636b13c8>"
      ]
     },
     "execution_count": 104,
     "metadata": {},
     "output_type": "execute_result"
    },
    {
     "data": {
      "image/png": "[encoded data removed]",
      "text/plain": [
       "<matplotlib.figure.Figure at 0x17e5ad38f28>"
      ]
     },
     "metadata": {},
     "output_type": "display_data"
    }
   ],
   "source": [
    "sns.barplot(x = 'Year', y = '300+', data = df_2017.groupby('Year').sum().reset_index())"
   ]
  },
  {
   "cell_type": "markdown",
   "metadata": {},
   "source": [
    "Observations: Since 2010, the number of individuals who drive the ball over 300 yards on average has increased since 2010."
   ]
  },
  {
   "cell_type": "markdown",
   "metadata": {},
   "source": [
    "### Distribution of scoring average column"
   ]
  },
  {
   "cell_type": "code",
   "execution_count": 107,
   "metadata": {},
   "outputs": [
    {
     "data": {
      "text/plain": [
       "<matplotlib.axes._subplots.AxesSubplot at 0x17e656c55c0>"
      ]
     },
     "execution_count": 107,
     "metadata": {},
     "output_type": "execute_result"
    },
    {
     "data": {
      "image/png": "[encoded data removed]",
      "text/plain": [
       "<matplotlib.figure.Figure at 0x17e65000fd0>"
      ]
     },
     "metadata": {},
     "output_type": "display_data"
    }
   ],
   "source": [
    "sns.distplot(df_2017['SCORING AVG'])"
   ]
  },
  {
   "cell_type": "markdown",
   "metadata": {},
   "source": [
    "Observations: Scored look approximately normally distributed, a few outliers on the higher end of the distribution. Scoring average for all golfers across all years is 70.9 with a standard deviation of 0.688."
   ]
  },
  {
   "cell_type": "code",
   "execution_count": 109,
   "metadata": {},
   "outputs": [
    {
     "data": {
      "text/plain": [
       "count    1485.000000\n",
       "mean       70.928214\n",
       "std         0.688331\n",
       "min        68.827000\n",
       "25%        70.503000\n",
       "50%        70.909000\n",
       "75%        71.348000\n",
       "max        74.400000\n",
       "Name: SCORING AVG, dtype: float64"
      ]
     },
     "execution_count": 109,
     "metadata": {},
     "output_type": "execute_result"
    }
   ],
   "source": [
    "df_2017.describe()['SCORING AVG']"
   ]
  },
  {
   "cell_type": "markdown",
   "metadata": {},
   "source": [
    "### Barplot of top 10's vs Scoring Average."
   ]
  },
  {
   "cell_type": "code",
   "execution_count": 110,
   "metadata": {},
   "outputs": [
    {
     "data": {
      "text/plain": [
       "[(68, 73),\n",
       " Text(0,0.5,'Scoring Average'),\n",
       " Text(0.5,1,\"# of top 10's vs scoring average\")]"
      ]
     },
     "execution_count": 110,
     "metadata": {},
     "output_type": "execute_result"
    },
    {
     "data": {
      "image/png": "[encoded data removed]",
      "text/plain": [
       "<matplotlib.figure.Figure at 0x17e656ce908>"
      ]
     },
     "metadata": {},
     "output_type": "display_data"
    }
   ],
   "source": [
    "bp = sns.barplot(x=\"TOP 10\",y='SCORING AVG', data = df_2017)\n",
    "bp.set(ylim=(68, 73), title=\"# of top 10's vs scoring average\", ylabel=\"Scoring Average\")"
   ]
  },
  {
   "cell_type": "markdown",
   "metadata": {},
   "source": [
    "Observations: As the number of top 10's increase, scoring average tends to decrease."
   ]
  },
  {
   "cell_type": "markdown",
   "metadata": {},
   "source": [
    "### Barplot of Fedex cup points vs Number of top 10's"
   ]
  },
  {
   "cell_type": "code",
   "execution_count": 111,
   "metadata": {},
   "outputs": [
    {
     "data": {
      "text/plain": [
       "[Text(0,0.5,'Fedex Cup Points'),\n",
       " Text(0.5,1,\"# of top 10's vs Fedex Cup Points\")]"
      ]
     },
     "execution_count": 111,
     "metadata": {},
     "output_type": "execute_result"
    },
    {
     "data": {
      "image/png": "[encoded data removed]",
      "text/plain": [
       "<matplotlib.figure.Figure at 0x17e6579c160>"
      ]
     },
     "metadata": {},
     "output_type": "display_data"
    }
   ],
   "source": [
    "bp = sns.barplot(x=\"TOP 10\",y='POINTS', data = df_2017)\n",
    "bp.set(title=\"# of top 10's vs Fedex Cup Points\", ylabel=\"Fedex Cup Points\")"
   ]
  },
  {
   "cell_type": "markdown",
   "metadata": {},
   "source": [
    "Observations: As the number of top 10's increase, Fedex cup points tend to increase. This makes sense intuitively because more fed ex cup points are awarded for top 10 finishes."
   ]
  },
  {
   "cell_type": "markdown",
   "metadata": {},
   "source": [
    "## Boxplots of all numeric columns based on winners and non-winners"
   ]
  },
  {
   "cell_type": "code",
   "execution_count": 104,
   "metadata": {},
   "outputs": [
    {
     "data": {
      "image/png": "[encoded data removed]",
      "text/plain": [
       "<matplotlib.figure.Figure at 0x1db5759afd0>"
      ]
     },
     "metadata": {},
     "output_type": "display_data"
    }
   ],
   "source": [
    "f, ax = plt.subplots(nrows = 3, ncols = 4, figsize=(15,20))\n",
    "columns = ['POINTS', 'TOP 10', 'SCORING AVG',\n",
    "       'AVG DRIVING DISTANCE.', 'AVG SG TEE TO GREEN',\n",
    "       'AVG STROKES GAINED PUTTING', 'AVG SG TOTAL', 'FWY %', 'GIR %']\n",
    "row = 0\n",
    "col = 0\n",
    "for i, column in enumerate(columns):\n",
    "    g = sns.boxplot(x='Winner', y=column, ax=ax[row][col], data=df)\n",
    "    g.set(title = \"Winner Vs. \" + column)\n",
    "    col += 1\n",
    "    if col == 4:\n",
    "        col = 0\n",
    "        row += 1\n",
    "        \n",
    "plt.subplots_adjust(left=None, bottom=None, right=1, top=None, wspace=.4, hspace=None)\n"
   ]
  },
  {
   "cell_type": "markdown",
   "metadata": {},
   "source": [
    "# 4. <a id='section_4'>Train, fit, and test machine learning model</a>\n",
    "<a href='#TOC'>Back to table of Contents</a>"
   ]
  },
  {
   "cell_type": "markdown",
   "metadata": {},
   "source": [
    "In order to predict winners from the 2017 season, I'm going to use a Random Forest Classification model because of it's ability to be trained on different parts of the same training set and as a result reducing the variance (overfitting) in the final model. The steps I will take to build this model are listed below.\n",
    "<ol>\n",
    "<li>Import machine learning modules</li>\n",
    "<li>Select features to run model on</li>\n",
    "<li>Separate data into training and testing sets</li>\n",
    "<li>Build model and create predictions</li>\n",
    "</ol>\n"
   ]
  },
  {
   "cell_type": "markdown",
   "metadata": {},
   "source": [
    "### Import machine learning modules"
   ]
  },
  {
   "cell_type": "code",
   "execution_count": 120,
   "metadata": {
    "collapsed": true
   },
   "outputs": [],
   "source": [
    "from sklearn.model_selection import train_test_split #Train test splits\n",
    "from sklearn.linear_model import LogisticRegression #Logistic regression\n",
    "from sklearn.metrics import classification_report #Classification report metrics\n",
    "from sklearn.metrics import confusion_matrix #Confusion matrix\n",
    "from sklearn.ensemble import RandomForestClassifier #Random Forest Classifier"
   ]
  },
  {
   "cell_type": "markdown",
   "metadata": {},
   "source": [
    "### Select features to run model on"
   ]
  },
  {
   "cell_type": "markdown",
   "metadata": {},
   "source": [
    "I'd like to run this model on all of the numerical columns except for # of wins. I'm leaving out # of wins because that inherently will predict a winner perfectly because if they do have any wins on the year, the model will predict them as a winner. "
   ]
  },
  {
   "cell_type": "markdown",
   "metadata": {},
   "source": [
    "### Scale Features"
   ]
  },
  {
   "cell_type": "code",
   "execution_count": 121,
   "metadata": {
    "collapsed": true
   },
   "outputs": [],
   "source": [
    "X = df_feat[['POINTS', 'TOP 10', 'ROUNDS', 'SCORING AVG',\n",
    "       'AVG DRIVING DISTANCE.', 'AVG SG TEE TO GREEN',\n",
    "       'AVG STROKES GAINED PUTTING', 'AVG SG TOTAL', 'FWY %', 'GIR %', '300+']]\n",
    "y = df['Winner']"
   ]
  },
  {
   "cell_type": "markdown",
   "metadata": {},
   "source": [
    "### Separate data into Training and Testing data sets"
   ]
  },
  {
   "cell_type": "code",
   "execution_count": 122,
   "metadata": {
    "collapsed": true
   },
   "outputs": [],
   "source": [
    "X_train, X_test, y_train, y_test = train_test_split(X, y, test_size=0.33, random_state=40)"
   ]
  },
  {
   "cell_type": "markdown",
   "metadata": {},
   "source": [
    "### Build model and create predictions"
   ]
  },
  {
   "cell_type": "code",
   "execution_count": 123,
   "metadata": {
    "collapsed": true
   },
   "outputs": [],
   "source": [
    "rfc = RandomForestClassifier(n_estimators=200)"
   ]
  },
  {
   "cell_type": "code",
   "execution_count": 124,
   "metadata": {},
   "outputs": [
    {
     "data": {
      "text/plain": [
       "RandomForestClassifier(bootstrap=True, class_weight=None, criterion='gini',\n",
       "            max_depth=None, max_features='auto', max_leaf_nodes=None,\n",
       "            min_impurity_decrease=0.0, min_impurity_split=None,\n",
       "            min_samples_leaf=1, min_samples_split=2,\n",
       "            min_weight_fraction_leaf=0.0, n_estimators=200, n_jobs=1,\n",
       "            oob_score=False, random_state=None, verbose=0,\n",
       "            warm_start=False)"
      ]
     },
     "execution_count": 124,
     "metadata": {},
     "output_type": "execute_result"
    }
   ],
   "source": [
    "rfc.fit(X_train, y_train)"
   ]
  },
  {
   "cell_type": "code",
   "execution_count": 125,
   "metadata": {
    "collapsed": true
   },
   "outputs": [],
   "source": [
    "rfc_pred = rfc.predict(X_test)"
   ]
  },
  {
   "cell_type": "code",
   "execution_count": 127,
   "metadata": {},
   "outputs": [
    {
     "data": {
      "text/plain": [
       "array([[437,  20],\n",
       "       [ 45,  52]], dtype=int64)"
      ]
     },
     "execution_count": 127,
     "metadata": {},
     "output_type": "execute_result"
    }
   ],
   "source": [
    "cf_dat = confusion_matrix(y_test, rfc_pred)\n",
    "cf_dat"
   ]
  },
  {
   "cell_type": "code",
   "execution_count": 128,
   "metadata": {
    "collapsed": true
   },
   "outputs": [],
   "source": [
    "confusion = pd.DataFrame(data = cf_dat)"
   ]
  },
  {
   "cell_type": "code",
   "execution_count": 134,
   "metadata": {},
   "outputs": [
    {
     "data": {
      "text/html": [
       "<div>\n",
       "<style>\n",
       "    .dataframe thead tr:only-child th {\n",
       "        text-align: right;\n",
       "    }\n",
       "\n",
       "    .dataframe thead th {\n",
       "        text-align: left;\n",
       "    }\n",
       "\n",
       "    .dataframe tbody tr th {\n",
       "        vertical-align: top;\n",
       "    }\n",
       "</style>\n",
       "<table border=\"1\" class=\"dataframe\">\n",
       "  <thead>\n",
       "    <tr style=\"text-align: right;\">\n",
       "      <th></th>\n",
       "      <th>0</th>\n",
       "      <th>1</th>\n",
       "    </tr>\n",
       "  </thead>\n",
       "  <tbody>\n",
       "    <tr>\n",
       "      <th>0</th>\n",
       "      <td>437</td>\n",
       "      <td>20</td>\n",
       "    </tr>\n",
       "    <tr>\n",
       "      <th>1</th>\n",
       "      <td>45</td>\n",
       "      <td>52</td>\n",
       "    </tr>\n",
       "  </tbody>\n",
       "</table>\n",
       "</div>"
      ],
      "text/plain": [
       "     0   1\n",
       "0  437  20\n",
       "1   45  52"
      ]
     },
     "execution_count": 134,
     "metadata": {},
     "output_type": "execute_result"
    }
   ],
   "source": [
    "confusion"
   ]
  },
  {
   "cell_type": "code",
   "execution_count": 135,
   "metadata": {},
   "outputs": [
    {
     "name": "stdout",
     "output_type": "stream",
     "text": [
      "             precision    recall  f1-score   support\n",
      "\n",
      "          0       0.91      0.96      0.93       457\n",
      "          1       0.72      0.54      0.62        97\n",
      "\n",
      "avg / total       0.87      0.88      0.88       554\n",
      "\n"
     ]
    }
   ],
   "source": [
    "print(classification_report(y_test, rfc_pred))"
   ]
  },
  {
   "cell_type": "markdown",
   "metadata": {},
   "source": [
    "# 5. <a id='section_5'>Conclusion</a>\n",
    "<a href='#TOC'>Back to table of Contents</a>"
   ]
  },
  {
   "cell_type": "markdown",
   "metadata": {},
   "source": [
    "### Notebook Observations\n",
    "This notebook shows some interesting trends for winners on the PGA tour that I intend to explore further.\n",
    "<ul>\n",
    "<li>Winners on the PGA tour tend to hit the ball further than non-winners. Does hitting the ball further provide more value for PGA tour players than hitting it straighter?</li>\n",
    "<li>The number of individuals that hit the ball over 300 yards jumped from 25 in 2016 to 41 in 2017. What is causing this huge spike in long drivers? Can we expect this to increase at the same rate? How will this impact future tour events?</li>\n",
    "<li>Stroked gained putting and driving distance both appear to increase the chance of winning. Is it more important to drive the ball further or putt better? As they say, \"Drive for show, putt for dough\".</li>\n",
    "</ul>\n",
    "\n",
    "### Machine Learning Model Results\n",
    "Based on the confusion matrix above, of the 72 tournament winners the model predicts, 52 of those are actually winners (precision - 72%). Addititionally, of the 97 actual winners in the test data set, the model correctly classified 52 of them (recall - 54%). One reason this model's prediction accuracy for tournament winners is so low is due to the class imbalance in the response variable (Winner) as stated previously.\n",
    "\n",
    "### Moving Forward\n",
    "I intend to take a deeper dive into the questions I stated above regarding driving distance vs accuracy and driving distance vs putting. As I continue to improve my knowledge of machine learning models and what improves prediction accuracy for this type of dataset I will update this notebook with any improvement I can make to the model.\n",
    "\n",
    "I hope you enjoyed reading this notebook!"
   ]
  },
  {
   "cell_type": "code",
   "execution_count": null,
   "metadata": {
    "collapsed": true
   },
   "outputs": [],
   "source": []
  }
 ],
 "metadata": {
  "kernelspec": {
   "display_name": "Python 3",
   "language": "python",
   "name": "python3"
  },
  "language_info": {
   "codemirror_mode": {
    "name": "ipython",
    "version": 3
   },
   "file_extension": ".py",
   "mimetype": "text/x-python",
   "name": "python",
   "nbconvert_exporter": "python",
   "pygments_lexer": "ipython3",
   "version": "3.6.3"
  }
 },
 "nbformat": 4,
 "nbformat_minor": 2
}
