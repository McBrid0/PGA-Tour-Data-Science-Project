{
 "cells": [
  {
   "cell_type": "markdown",
   "metadata": {
    "collapsed": true
   },
   "source": [
    "# PGA Tour Web Scraping and Machine Learning Project"
   ]
  },
  {
   "cell_type": "markdown",
   "metadata": {},
   "source": [
    "AS an avid golf fan and asipring data scientist, I've always wanted to gather data from PGA Tour.com and do my own analysis on tour pro statistics. The following notebook walks you through my steps to collect, pre-process and clean, visualize and create a model to predict winners on the PGA tour for the 2017 season. The data were collected from <a href='https://www.pgatour.com/'>pgatour.com</a>"
   ]
  },
  {
   "cell_type": "markdown",
   "metadata": {},
   "source": [
    "# <a id='TOC'>Table of Contents</a>\n",
    "<ol>\n",
    "<li><a href='#section 1'>Imports</a></li>\n",
    "<li><a href='#section_2'>Data Collection</a></li>\n",
    "<li><a href='#section_3'>Data Cleaning and Pre-Processing</a></li>\n",
    "<li><a href='#section_4'>Exploratory Data Analysis</a></li>\n",
    "<li><a href='#section_5'>Train, fit, and test machine learning model</a></li>\n",
    "<li><a href='#section_6'>Interpret Results</a></li>\n",
    "\n",
    "\n",
    "\n",
    "</ol>"
   ]
  },
  {
   "cell_type": "markdown",
   "metadata": {},
   "source": [
    "# <a href='#section 1'>1. Imports</a>"
   ]
  },
  {
   "cell_type": "markdown",
   "metadata": {},
   "source": [
    "The three imports I used for this notebook were requests, pandas, and beautiful soup."
   ]
  },
  {
   "cell_type": "code",
   "execution_count": 2,
   "metadata": {
    "collapsed": true
   },
   "outputs": [],
   "source": [
    "#Imports\n",
    "import requests\n",
    "import pandas as pd\n",
    "from bs4 import BeautifulSoup"
   ]
  },
  {
   "cell_type": "markdown",
   "metadata": {},
   "source": [
    "# <a id='section_2'>2. Data Collection</a>\n",
    "<a href='#TOC'>Back to table of Contents</a>"
   ]
  },
  {
   "cell_type": "markdown",
   "metadata": {},
   "source": [
    "In order to collect the data I needed to perform the analysis, I had to utilize the beautiful soup package to web scrape the pgatour.com website. If you look at the <a href=\"https://www.pgatour.com/stats.html\">PGA tour stats page</a>, you'll notice the statistics are contained in different pages. For example, putting, driving and scoring statistics are all contained in different pages. Because this is my first end to end project, I wanted to keep my final model simple so only pulled Fedex cup points, top 10's, # of wins, scoring average, driving distance, driving accuracy and greens in regulation %. In order to get the data from PGAtour.com I took the following steps.\n",
    "\n",
    "For each page:\n",
    "<ol>\n",
    "<li>Have a function that pulls column headers</li>\n",
    "<li>Have a function that pulls players from particular stats page</li>\n",
    "<li>Have a function that pulls statistics from page</li>\n",
    "<li>Create a dictionary to store player data in for particular stats page.</li>\n",
    "<li>Have function that uses functions 1-4 to create a pandas dataframe to store data for that particular statistic.</li>\n",
    "<li>Use URL and number of columns for each stats page to create dataframes.</li>\n",
    "</ol>\n"
   ]
  },
  {
   "cell_type": "markdown",
   "metadata": {},
   "source": [
    "### 1. Pull column headers from page"
   ]
  },
  {
   "cell_type": "code",
   "execution_count": 3,
   "metadata": {
    "collapsed": true
   },
   "outputs": [],
   "source": [
    "def get_headers(soup):\n",
    "    '''This function get's the column names to use for the data frame.'''\n",
    "    headers = []\n",
    "    \n",
    "    #Get rounds header\n",
    "    rounds = soup.find_all(class_=\"rounds hidden-small hidden-medium\")[0].get_text()\n",
    "    headers.append(rounds)\n",
    "    \n",
    "    #Get other headers\n",
    "    stat_headers = soup.find_all(class_=\"col-stat hidden-small hidden-medium\")\n",
    "    for header in stat_headers:\n",
    "        headers.append(header.get_text())\n",
    "    \n",
    "    return headers"
   ]
  },
  {
   "cell_type": "markdown",
   "metadata": {},
   "source": [
    "### 2. Pull players from page"
   ]
  },
  {
   "cell_type": "code",
   "execution_count": 4,
   "metadata": {
    "collapsed": true
   },
   "outputs": [],
   "source": [
    "#Get Players\n",
    "def get_players(soup):\n",
    "    '''This function takes the beautiful soup created and uses it to gather player names from the specified stats page.'''\n",
    "    \n",
    "    player_list = []\n",
    "    \n",
    "    #Get player as html tags\n",
    "    players = soup.select('td a')[1:] #Use 1 beacuse first line of all tables is not useful.\n",
    "    #Loop through list\n",
    "    for player in players:\n",
    "        player_list.append(player.get_text())\n",
    "    \n",
    "    return player_list"
   ]
  },
  {
   "cell_type": "markdown",
   "metadata": {},
   "source": [
    "### 3. Pull statistics from page"
   ]
  },
  {
   "cell_type": "code",
   "execution_count": 5,
   "metadata": {
    "collapsed": true
   },
   "outputs": [],
   "source": [
    "##Get Stats\n",
    "def get_stats(soup, categories):\n",
    "    '''This function takes the soup created before and the number of categories needed to generate this'''\n",
    "    \n",
    "    #Finds all tags with class specified and puts into a list\n",
    "    stats = soup.find_all(class_=\"hidden-small hidden-medium\")\n",
    "    \n",
    "    #Initialize stats list\n",
    "    stat_list = []\n",
    "    \n",
    "    #Loop through \n",
    "    for i in range(0, len(stats)-categories+1, categories):\n",
    "        temp_list = []\n",
    "        for j in range(categories):\n",
    "            temp_list.append(stats[i + j].get_text())\n",
    "        stat_list.append(temp_list)\n",
    "            \n",
    "    return stat_list"
   ]
  },
  {
   "cell_type": "markdown",
   "metadata": {},
   "source": [
    "### 4. Create data dictionary for page"
   ]
  },
  {
   "cell_type": "code",
   "execution_count": 6,
   "metadata": {
    "collapsed": true
   },
   "outputs": [],
   "source": [
    "def stats_dict(players, stats):\n",
    "        '''This function takes two lists, players and stats, \n",
    "        and creates a dictionary with the player being the key \n",
    "        and the stats as the vales (as a list)'''\n",
    "    \n",
    "        #initialize player dictionary\n",
    "        player_dict = {}\n",
    "    \n",
    "        #Loop through player list\n",
    "        for i, player in enumerate(players):\n",
    "            player_dict[player] = stats[i]\n",
    "    \n",
    "        return player_dict"
   ]
  },
  {
   "cell_type": "markdown",
   "metadata": {},
   "source": [
    "### 5. Use functions 1-4 to create dataframe for statistic. \"make_dataframe\""
   ]
  },
  {
   "cell_type": "code",
   "execution_count": 7,
   "metadata": {
    "collapsed": true
   },
   "outputs": [],
   "source": [
    "##Mega function\n",
    "def make_dataframe(url, categories):\n",
    "        \n",
    "    ##Create soup object from url.\n",
    "    response = requests.get(url)\n",
    "    text = response.text\n",
    "    soup = BeautifulSoup(text, 'lxml')\n",
    "    \n",
    "    #1. Get Headers\n",
    "    headers = get_headers(soup)\n",
    "    \n",
    "    #2. Get Players\n",
    "    players = get_players(soup)\n",
    "    \n",
    "    #3. Get Stats\n",
    "    stats = get_stats(soup, categories)\n",
    "    \n",
    "    #4. Make stats dictionary.\n",
    "    stats_dictionary = stats_dict(players, stats)\n",
    "    \n",
    "    #Make dataframe\n",
    "    frame = pd.DataFrame(stats_dictionary, index = headers).T\n",
    "    \n",
    "    #Reset index\n",
    "    frame = frame.reset_index()\n",
    "    \n",
    "    #For each Dataframe, change index column to 'NAME'\n",
    "    frame = frame.rename(index = str, columns = {'index': 'NAME'})\n",
    "    return frame\n",
    "  "
   ]
  },
  {
   "cell_type": "markdown",
   "metadata": {},
   "source": [
    "### 6. In order to get the statistics for each page, I used the URL for each page and the number of columns for each data table to create the dataframes below"
   ]
  },
  {
   "cell_type": "code",
   "execution_count": 8,
   "metadata": {
    "collapsed": true
   },
   "outputs": [],
   "source": [
    "#Fedex cup points\n",
    "fcp_2017 = make_dataframe(\"https://www.pgatour.com/stats/stat.02671.2017.html\", 6)\n",
    "\n",
    "#Top 10's and wins\n",
    "top10_2017 = make_dataframe(\"https://www.pgatour.com/stats/stat.138.2017.html\", 5)\n",
    "\n",
    "#Scoring statistics\n",
    "scoring_2017 = make_dataframe(\"https://www.pgatour.com/stats/stat.120.2017.html\", 5)\n",
    "\n",
    "#Driving Distance\n",
    "drivedistance_2017 = make_dataframe(\"https://www.pgatour.com/stats/stat.101.2017.html\", 4)\n",
    "\n",
    "#Driving Accuracy\n",
    "driveacc_2017 = make_dataframe(\"https://www.pgatour.com/stats/stat.102.2017.html\", 4)\n",
    "#Change column name from % to FWY %\n",
    "driveacc_2017 = driveacc_2017.rename(columns = {'%': \"FWY %\"})\n",
    "\n",
    "#Greens in Regulation.\n",
    "gir_2017 = make_dataframe(\"https://www.pgatour.com/stats/stat.103.2017.html\", 5)\n",
    "#Change column name from % to GIR %\n",
    "gir_2017 = gir_2017.rename(columns = {'%': \"GIR %\"})\n",
    "\n",
    "sg_putting_2017 = make_dataframe(\"https://www.pgatour.com/stats/stat.02564.2017.html\", 4)\n",
    "\n",
    "\n"
   ]
  },
  {
   "cell_type": "code",
   "execution_count": null,
   "metadata": {
    "collapsed": true
   },
   "outputs": [],
   "source": []
  },
  {
   "cell_type": "code",
   "execution_count": 9,
   "metadata": {
    "collapsed": true
   },
   "outputs": [],
   "source": [
    "sg_putting_2017 = sg_putting_2017.rename(columns = {'AVERAGE': 'AVG STROKES GAINED PUTTING'})"
   ]
  },
  {
   "cell_type": "code",
   "execution_count": 10,
   "metadata": {
    "collapsed": true
   },
   "outputs": [],
   "source": [
    "#Assert all dataframes have loaded.\n",
    "assert len(fcp_2017)>50\n",
    "assert len(top10_2017)>50\n",
    "assert len(scoring_2017)>50\n",
    "assert len(drivedistance_2017)>50\n",
    "assert len(driveacc_2017)>50\n",
    "assert len(gir_2017)>50"
   ]
  },
  {
   "cell_type": "markdown",
   "metadata": {},
   "source": [
    "# <a id='section_3'>3. Data Cleaning and Pre-Processing</a>\n",
    "<a href='#TOC'>Back to table of Contents</a>"
   ]
  },
  {
   "cell_type": "markdown",
   "metadata": {},
   "source": [
    "Data preprocessing tasks:\n",
    "<ol>\n",
    "<li>Combine dataframes into list.</li>\n",
    "<li>Merge list of dataframes together on name column.</li>\n",
    "<li>Select data categories: Name, Fedex cup points, Rounds, # of wins, # of top 10's, Scoring Avg, Avg. Driving Distance, Fairway %, GIR%</li>\n",
    "<li>Rename columns and do some cleaning.</li>\n",
    "<li>Have function that uses functions 1-4 to create a pandas dataframe to store data for that particular statistic.</li>\n",
    "<li>Use URL and number of columns for each stats page to create dataframes.</li>\n",
    "</ol>\n",
    "\n"
   ]
  },
  {
   "cell_type": "markdown",
   "metadata": {
    "collapsed": true
   },
   "source": [
    "Combine dataframes into list"
   ]
  },
  {
   "cell_type": "code",
   "execution_count": 11,
   "metadata": {
    "collapsed": true
   },
   "outputs": [],
   "source": [
    "#Get Dataframes into list.\n",
    "dfs = [fcp_2017, top10_2017, scoring_2017, drivedistance_2017, driveacc_2017, gir_2017, sg_putting_2017]"
   ]
  },
  {
   "cell_type": "markdown",
   "metadata": {},
   "source": [
    "Merge list of dataframes together. Notice that every column from tables were merged, only want to keep some."
   ]
  },
  {
   "cell_type": "code",
   "execution_count": 12,
   "metadata": {},
   "outputs": [
    {
     "data": {
      "text/html": [
       "<div>\n",
       "<style>\n",
       "    .dataframe thead tr:only-child th {\n",
       "        text-align: right;\n",
       "    }\n",
       "\n",
       "    .dataframe thead th {\n",
       "        text-align: left;\n",
       "    }\n",
       "\n",
       "    .dataframe tbody tr th {\n",
       "        vertical-align: top;\n",
       "    }\n",
       "</style>\n",
       "<table border=\"1\" class=\"dataframe\">\n",
       "  <thead>\n",
       "    <tr style=\"text-align: right;\">\n",
       "      <th></th>\n",
       "      <th>NAME</th>\n",
       "      <th>EVENTS_x</th>\n",
       "      <th>POINTS</th>\n",
       "      <th># OF WINS</th>\n",
       "      <th># OF TOP 10'S</th>\n",
       "      <th>POINTS BEHIND LEAD</th>\n",
       "      <th>RESET POINTS</th>\n",
       "      <th>EVENTS_y</th>\n",
       "      <th>TOP 10</th>\n",
       "      <th>1ST</th>\n",
       "      <th>...</th>\n",
       "      <th>POSSIBLE FAIRWAYS</th>\n",
       "      <th>ROUNDS_y</th>\n",
       "      <th>GIR %</th>\n",
       "      <th>GREENS HIT</th>\n",
       "      <th># HOLES</th>\n",
       "      <th>RELATIVE/PAR</th>\n",
       "      <th>ROUNDS</th>\n",
       "      <th>AVG STROKES GAINED PUTTING</th>\n",
       "      <th>TOTAL SG:PUTTING</th>\n",
       "      <th>MEASURED ROUNDS</th>\n",
       "    </tr>\n",
       "  </thead>\n",
       "  <tbody>\n",
       "    <tr>\n",
       "      <th>0</th>\n",
       "      <td>Aaron Baddeley</td>\n",
       "      <td>20</td>\n",
       "      <td>325</td>\n",
       "      <td></td>\n",
       "      <td>2</td>\n",
       "      <td>5,956</td>\n",
       "      <td></td>\n",
       "      <td>20</td>\n",
       "      <td>2</td>\n",
       "      <td></td>\n",
       "      <td>...</td>\n",
       "      <td>800</td>\n",
       "      <td>61</td>\n",
       "      <td>62.57</td>\n",
       "      <td>642</td>\n",
       "      <td>1,026</td>\n",
       "      <td>-0.28</td>\n",
       "      <td>61</td>\n",
       "      <td>.044</td>\n",
       "      <td>2.004</td>\n",
       "      <td>46</td>\n",
       "    </tr>\n",
       "    <tr>\n",
       "      <th>1</th>\n",
       "      <td>Adam Hadwin</td>\n",
       "      <td>28</td>\n",
       "      <td>362</td>\n",
       "      <td>1</td>\n",
       "      <td>5</td>\n",
       "      <td>2,638</td>\n",
       "      <td>206</td>\n",
       "      <td>28</td>\n",
       "      <td>5</td>\n",
       "      <td>1</td>\n",
       "      <td>...</td>\n",
       "      <td>1,367</td>\n",
       "      <td>98</td>\n",
       "      <td>65.08</td>\n",
       "      <td>1,148</td>\n",
       "      <td>1,764</td>\n",
       "      <td>-0.28</td>\n",
       "      <td>98</td>\n",
       "      <td>.446</td>\n",
       "      <td>35.245</td>\n",
       "      <td>79</td>\n",
       "    </tr>\n",
       "    <tr>\n",
       "      <th>2</th>\n",
       "      <td>Adam Scott</td>\n",
       "      <td>16</td>\n",
       "      <td>642</td>\n",
       "      <td></td>\n",
       "      <td>4</td>\n",
       "      <td>5,639</td>\n",
       "      <td></td>\n",
       "      <td>16</td>\n",
       "      <td>4</td>\n",
       "      <td></td>\n",
       "      <td>...</td>\n",
       "      <td>812</td>\n",
       "      <td>58</td>\n",
       "      <td>67.05</td>\n",
       "      <td>700</td>\n",
       "      <td>1,044</td>\n",
       "      <td>-0.27</td>\n",
       "      <td>58</td>\n",
       "      <td>.054</td>\n",
       "      <td>2.249</td>\n",
       "      <td>42</td>\n",
       "    </tr>\n",
       "    <tr>\n",
       "      <th>3</th>\n",
       "      <td>Alex Cejka</td>\n",
       "      <td>28</td>\n",
       "      <td>276</td>\n",
       "      <td></td>\n",
       "      <td>1</td>\n",
       "      <td>6,005</td>\n",
       "      <td></td>\n",
       "      <td>28</td>\n",
       "      <td>1</td>\n",
       "      <td></td>\n",
       "      <td>...</td>\n",
       "      <td>1,073</td>\n",
       "      <td>85</td>\n",
       "      <td>66.45</td>\n",
       "      <td>921</td>\n",
       "      <td>1,386</td>\n",
       "      <td>-0.22</td>\n",
       "      <td>85</td>\n",
       "      <td>-.359</td>\n",
       "      <td>-22.281</td>\n",
       "      <td>62</td>\n",
       "    </tr>\n",
       "    <tr>\n",
       "      <th>4</th>\n",
       "      <td>Andres Gonzales</td>\n",
       "      <td>24</td>\n",
       "      <td>226</td>\n",
       "      <td></td>\n",
       "      <td>1</td>\n",
       "      <td>6,055</td>\n",
       "      <td></td>\n",
       "      <td>24</td>\n",
       "      <td>1</td>\n",
       "      <td></td>\n",
       "      <td>...</td>\n",
       "      <td>965</td>\n",
       "      <td>73</td>\n",
       "      <td>67.71</td>\n",
       "      <td>841</td>\n",
       "      <td>1,242</td>\n",
       "      <td>-0.26</td>\n",
       "      <td>73</td>\n",
       "      <td>.023</td>\n",
       "      <td>1.324</td>\n",
       "      <td>57</td>\n",
       "    </tr>\n",
       "  </tbody>\n",
       "</table>\n",
       "<p>5 rows × 34 columns</p>\n",
       "</div>"
      ],
      "text/plain": [
       "              NAME EVENTS_x POINTS # OF WINS # OF TOP 10'S POINTS BEHIND LEAD  \\\n",
       "0   Aaron Baddeley       20    325                       2              5,956   \n",
       "1      Adam Hadwin       28    362         1             5              2,638   \n",
       "2       Adam Scott       16    642                       4              5,639   \n",
       "3       Alex Cejka       28    276                       1              6,005   \n",
       "4  Andres Gonzales       24    226                       1              6,055   \n",
       "\n",
       "  RESET POINTS EVENTS_y TOP 10 1ST       ...       POSSIBLE FAIRWAYS ROUNDS_y  \\\n",
       "0                    20      2           ...                     800       61   \n",
       "1          206       28      5   1       ...                   1,367       98   \n",
       "2                    16      4           ...                     812       58   \n",
       "3                    28      1           ...                   1,073       85   \n",
       "4                    24      1           ...                     965       73   \n",
       "\n",
       "   GIR % GREENS HIT # HOLES RELATIVE/PAR ROUNDS AVG STROKES GAINED PUTTING  \\\n",
       "0  62.57        642   1,026        -0.28     61                       .044   \n",
       "1  65.08      1,148   1,764        -0.28     98                       .446   \n",
       "2  67.05        700   1,044        -0.27     58                       .054   \n",
       "3  66.45        921   1,386        -0.22     85                      -.359   \n",
       "4  67.71        841   1,242        -0.26     73                       .023   \n",
       "\n",
       "  TOTAL SG:PUTTING MEASURED ROUNDS  \n",
       "0            2.004              46  \n",
       "1           35.245              79  \n",
       "2            2.249              42  \n",
       "3          -22.281              62  \n",
       "4            1.324              57  \n",
       "\n",
       "[5 rows x 34 columns]"
      ]
     },
     "execution_count": 12,
     "metadata": {},
     "output_type": "execute_result"
    }
   ],
   "source": [
    "#Data Wrangling and Clensing\n",
    "from functools import reduce\n",
    "\n",
    "#Combine all dataframes in list df\n",
    "dffinal = reduce(lambda left, right: pd.merge(left, right, on='NAME'), dfs)\n",
    "dffinal.head()"
   ]
  },
  {
   "cell_type": "markdown",
   "metadata": {},
   "source": [
    "Select data categories. notice multiple Rounds_x columns. will deal with later"
   ]
  },
  {
   "cell_type": "code",
   "execution_count": 13,
   "metadata": {},
   "outputs": [
    {
     "data": {
      "text/html": [
       "<div>\n",
       "<style>\n",
       "    .dataframe thead tr:only-child th {\n",
       "        text-align: right;\n",
       "    }\n",
       "\n",
       "    .dataframe thead th {\n",
       "        text-align: left;\n",
       "    }\n",
       "\n",
       "    .dataframe tbody tr th {\n",
       "        vertical-align: top;\n",
       "    }\n",
       "</style>\n",
       "<table border=\"1\" class=\"dataframe\">\n",
       "  <thead>\n",
       "    <tr style=\"text-align: right;\">\n",
       "      <th></th>\n",
       "      <th>NAME</th>\n",
       "      <th>POINTS</th>\n",
       "      <th>ROUNDS_x</th>\n",
       "      <th>ROUNDS_x</th>\n",
       "      <th># OF WINS</th>\n",
       "      <th># OF TOP 10'S</th>\n",
       "      <th>AVG</th>\n",
       "      <th>AVG.</th>\n",
       "      <th>FWY %</th>\n",
       "      <th>GIR %</th>\n",
       "      <th>AVG STROKES GAINED PUTTING</th>\n",
       "    </tr>\n",
       "  </thead>\n",
       "  <tbody>\n",
       "    <tr>\n",
       "      <th>0</th>\n",
       "      <td>Aaron Baddeley</td>\n",
       "      <td>325</td>\n",
       "      <td>61</td>\n",
       "      <td>61</td>\n",
       "      <td></td>\n",
       "      <td>2</td>\n",
       "      <td>71.483</td>\n",
       "      <td>292.6</td>\n",
       "      <td>52.25</td>\n",
       "      <td>62.57</td>\n",
       "      <td>.044</td>\n",
       "    </tr>\n",
       "    <tr>\n",
       "      <th>1</th>\n",
       "      <td>Adam Hadwin</td>\n",
       "      <td>362</td>\n",
       "      <td>98</td>\n",
       "      <td>98</td>\n",
       "      <td>1</td>\n",
       "      <td>5</td>\n",
       "      <td>70.583</td>\n",
       "      <td>291.3</td>\n",
       "      <td>63.20</td>\n",
       "      <td>65.08</td>\n",
       "      <td>.446</td>\n",
       "    </tr>\n",
       "    <tr>\n",
       "      <th>2</th>\n",
       "      <td>Adam Scott</td>\n",
       "      <td>642</td>\n",
       "      <td>58</td>\n",
       "      <td>58</td>\n",
       "      <td></td>\n",
       "      <td>4</td>\n",
       "      <td>69.996</td>\n",
       "      <td>307.0</td>\n",
       "      <td>56.65</td>\n",
       "      <td>67.05</td>\n",
       "      <td>.054</td>\n",
       "    </tr>\n",
       "    <tr>\n",
       "      <th>3</th>\n",
       "      <td>Alex Cejka</td>\n",
       "      <td>276</td>\n",
       "      <td>85</td>\n",
       "      <td>85</td>\n",
       "      <td></td>\n",
       "      <td>1</td>\n",
       "      <td>71.461</td>\n",
       "      <td>282.1</td>\n",
       "      <td>67.19</td>\n",
       "      <td>66.45</td>\n",
       "      <td>-.359</td>\n",
       "    </tr>\n",
       "    <tr>\n",
       "      <th>4</th>\n",
       "      <td>Andres Gonzales</td>\n",
       "      <td>226</td>\n",
       "      <td>73</td>\n",
       "      <td>73</td>\n",
       "      <td></td>\n",
       "      <td>1</td>\n",
       "      <td>71.112</td>\n",
       "      <td>299.2</td>\n",
       "      <td>55.75</td>\n",
       "      <td>67.71</td>\n",
       "      <td>.023</td>\n",
       "    </tr>\n",
       "  </tbody>\n",
       "</table>\n",
       "</div>"
      ],
      "text/plain": [
       "              NAME POINTS ROUNDS_x ROUNDS_x # OF WINS # OF TOP 10'S     AVG  \\\n",
       "0   Aaron Baddeley    325       61       61                       2  71.483   \n",
       "1      Adam Hadwin    362       98       98         1             5  70.583   \n",
       "2       Adam Scott    642       58       58                       4  69.996   \n",
       "3       Alex Cejka    276       85       85                       1  71.461   \n",
       "4  Andres Gonzales    226       73       73                       1  71.112   \n",
       "\n",
       "    AVG.  FWY %  GIR % AVG STROKES GAINED PUTTING  \n",
       "0  292.6  52.25  62.57                       .044  \n",
       "1  291.3  63.20  65.08                       .446  \n",
       "2  307.0  56.65  67.05                       .054  \n",
       "3  282.1  67.19  66.45                      -.359  \n",
       "4  299.2  55.75  67.71                       .023  "
      ]
     },
     "execution_count": 13,
     "metadata": {},
     "output_type": "execute_result"
    }
   ],
   "source": [
    "#Select desired features\n",
    "df_2017 = dffinal[['NAME', 'POINTS', 'ROUNDS_x', '# OF WINS', \"# OF TOP 10'S\", 'AVG', 'AVG.', 'FWY %', 'GIR %', 'AVG STROKES GAINED PUTTING']]\n",
    "df_2017.head()"
   ]
  },
  {
   "cell_type": "markdown",
   "metadata": {},
   "source": [
    "Column renaming, data cleaning"
   ]
  },
  {
   "cell_type": "code",
   "execution_count": 14,
   "metadata": {},
   "outputs": [
    {
     "data": {
      "text/html": [
       "<div>\n",
       "<style>\n",
       "    .dataframe thead tr:only-child th {\n",
       "        text-align: right;\n",
       "    }\n",
       "\n",
       "    .dataframe thead th {\n",
       "        text-align: left;\n",
       "    }\n",
       "\n",
       "    .dataframe tbody tr th {\n",
       "        vertical-align: top;\n",
       "    }\n",
       "</style>\n",
       "<table border=\"1\" class=\"dataframe\">\n",
       "  <thead>\n",
       "    <tr style=\"text-align: right;\">\n",
       "      <th></th>\n",
       "      <th>NAME</th>\n",
       "      <th>POINTS</th>\n",
       "      <th>ROUNDS</th>\n",
       "      <th># OF WINS</th>\n",
       "      <th># OF TOP 10'S</th>\n",
       "      <th>AVG</th>\n",
       "      <th>DRIVING AVG.</th>\n",
       "      <th>FWY %</th>\n",
       "      <th>GIR %</th>\n",
       "      <th>AVG STROKES GAINED PUTTING</th>\n",
       "    </tr>\n",
       "  </thead>\n",
       "  <tbody>\n",
       "    <tr>\n",
       "      <th>0</th>\n",
       "      <td>Aaron Baddeley</td>\n",
       "      <td>325</td>\n",
       "      <td>61</td>\n",
       "      <td></td>\n",
       "      <td>2</td>\n",
       "      <td>71.483</td>\n",
       "      <td>292.6</td>\n",
       "      <td>52.25</td>\n",
       "      <td>62.57</td>\n",
       "      <td>.044</td>\n",
       "    </tr>\n",
       "    <tr>\n",
       "      <th>1</th>\n",
       "      <td>Adam Hadwin</td>\n",
       "      <td>362</td>\n",
       "      <td>98</td>\n",
       "      <td>1</td>\n",
       "      <td>5</td>\n",
       "      <td>70.583</td>\n",
       "      <td>291.3</td>\n",
       "      <td>63.20</td>\n",
       "      <td>65.08</td>\n",
       "      <td>.446</td>\n",
       "    </tr>\n",
       "    <tr>\n",
       "      <th>2</th>\n",
       "      <td>Adam Scott</td>\n",
       "      <td>642</td>\n",
       "      <td>58</td>\n",
       "      <td></td>\n",
       "      <td>4</td>\n",
       "      <td>69.996</td>\n",
       "      <td>307.0</td>\n",
       "      <td>56.65</td>\n",
       "      <td>67.05</td>\n",
       "      <td>.054</td>\n",
       "    </tr>\n",
       "    <tr>\n",
       "      <th>3</th>\n",
       "      <td>Alex Cejka</td>\n",
       "      <td>276</td>\n",
       "      <td>85</td>\n",
       "      <td></td>\n",
       "      <td>1</td>\n",
       "      <td>71.461</td>\n",
       "      <td>282.1</td>\n",
       "      <td>67.19</td>\n",
       "      <td>66.45</td>\n",
       "      <td>-.359</td>\n",
       "    </tr>\n",
       "    <tr>\n",
       "      <th>4</th>\n",
       "      <td>Andres Gonzales</td>\n",
       "      <td>226</td>\n",
       "      <td>73</td>\n",
       "      <td></td>\n",
       "      <td>1</td>\n",
       "      <td>71.112</td>\n",
       "      <td>299.2</td>\n",
       "      <td>55.75</td>\n",
       "      <td>67.71</td>\n",
       "      <td>.023</td>\n",
       "    </tr>\n",
       "  </tbody>\n",
       "</table>\n",
       "</div>"
      ],
      "text/plain": [
       "              NAME POINTS ROUNDS # OF WINS # OF TOP 10'S     AVG DRIVING AVG.  \\\n",
       "0   Aaron Baddeley    325     61                       2  71.483        292.6   \n",
       "1      Adam Hadwin    362     98         1             5  70.583        291.3   \n",
       "2       Adam Scott    642     58                       4  69.996        307.0   \n",
       "3       Alex Cejka    276     85                       1  71.461        282.1   \n",
       "4  Andres Gonzales    226     73                       1  71.112        299.2   \n",
       "\n",
       "   FWY %  GIR % AVG STROKES GAINED PUTTING  \n",
       "0  52.25  62.57                       .044  \n",
       "1  63.20  65.08                       .446  \n",
       "2  56.65  67.05                       .054  \n",
       "3  67.19  66.45                      -.359  \n",
       "4  55.75  67.71                       .023  "
      ]
     },
     "execution_count": 14,
     "metadata": {},
     "output_type": "execute_result"
    }
   ],
   "source": [
    "#Rename Columns\n",
    "df_2017 = df_2017.rename(columns = {'AVG.':'DRIVING AVG.', 'ROUNDS_x': 'ROUNDS'})\n",
    "\n",
    "#Get rid of comma in points column\n",
    "df_2017['POINTS'] = df_2017['POINTS'].apply(lambda x: x.replace(',', ''))\n",
    "\n",
    "#Remove duplicat rounds columns\n",
    "df_2017 = df_2017.T.drop_duplicates().T\n",
    "\n",
    "df_2017.head()\n"
   ]
  },
  {
   "cell_type": "code",
   "execution_count": 15,
   "metadata": {},
   "outputs": [
    {
     "name": "stdout",
     "output_type": "stream",
     "text": [
      "<class 'pandas.core.frame.DataFrame'>\n",
      "Int64Index: 160 entries, 0 to 159\n",
      "Data columns (total 10 columns):\n",
      "NAME                          160 non-null object\n",
      "POINTS                        160 non-null object\n",
      "ROUNDS                        160 non-null object\n",
      "# OF WINS                     160 non-null object\n",
      "# OF TOP 10'S                 160 non-null object\n",
      "AVG                           160 non-null object\n",
      "DRIVING AVG.                  160 non-null object\n",
      "FWY %                         160 non-null object\n",
      "GIR %                         160 non-null object\n",
      "AVG STROKES GAINED PUTTING    160 non-null object\n",
      "dtypes: object(10)\n",
      "memory usage: 18.8+ KB\n"
     ]
    }
   ],
   "source": [
    "df_2017.info()"
   ]
  },
  {
   "cell_type": "markdown",
   "metadata": {},
   "source": [
    "Turn all numeric columns to numerics"
   ]
  },
  {
   "cell_type": "code",
   "execution_count": 16,
   "metadata": {},
   "outputs": [
    {
     "data": {
      "text/html": [
       "<div>\n",
       "<style>\n",
       "    .dataframe thead tr:only-child th {\n",
       "        text-align: right;\n",
       "    }\n",
       "\n",
       "    .dataframe thead th {\n",
       "        text-align: left;\n",
       "    }\n",
       "\n",
       "    .dataframe tbody tr th {\n",
       "        vertical-align: top;\n",
       "    }\n",
       "</style>\n",
       "<table border=\"1\" class=\"dataframe\">\n",
       "  <thead>\n",
       "    <tr style=\"text-align: right;\">\n",
       "      <th></th>\n",
       "      <th>NAME</th>\n",
       "      <th>POINTS</th>\n",
       "      <th>ROUNDS</th>\n",
       "      <th># OF WINS</th>\n",
       "      <th># OF TOP 10'S</th>\n",
       "      <th>AVG</th>\n",
       "      <th>DRIVING AVG.</th>\n",
       "      <th>FWY %</th>\n",
       "      <th>GIR %</th>\n",
       "      <th>AVG STROKES GAINED PUTTING</th>\n",
       "    </tr>\n",
       "  </thead>\n",
       "  <tbody>\n",
       "    <tr>\n",
       "      <th>0</th>\n",
       "      <td>Aaron Baddeley</td>\n",
       "      <td>325</td>\n",
       "      <td>61</td>\n",
       "      <td>NaN</td>\n",
       "      <td>2</td>\n",
       "      <td>71.483</td>\n",
       "      <td>292.6</td>\n",
       "      <td>52.25</td>\n",
       "      <td>62.57</td>\n",
       "      <td>0.044</td>\n",
       "    </tr>\n",
       "    <tr>\n",
       "      <th>1</th>\n",
       "      <td>Adam Hadwin</td>\n",
       "      <td>362</td>\n",
       "      <td>98</td>\n",
       "      <td>1.0</td>\n",
       "      <td>5</td>\n",
       "      <td>70.583</td>\n",
       "      <td>291.3</td>\n",
       "      <td>63.20</td>\n",
       "      <td>65.08</td>\n",
       "      <td>0.446</td>\n",
       "    </tr>\n",
       "    <tr>\n",
       "      <th>2</th>\n",
       "      <td>Adam Scott</td>\n",
       "      <td>642</td>\n",
       "      <td>58</td>\n",
       "      <td>NaN</td>\n",
       "      <td>4</td>\n",
       "      <td>69.996</td>\n",
       "      <td>307.0</td>\n",
       "      <td>56.65</td>\n",
       "      <td>67.05</td>\n",
       "      <td>0.054</td>\n",
       "    </tr>\n",
       "    <tr>\n",
       "      <th>3</th>\n",
       "      <td>Alex Cejka</td>\n",
       "      <td>276</td>\n",
       "      <td>85</td>\n",
       "      <td>NaN</td>\n",
       "      <td>1</td>\n",
       "      <td>71.461</td>\n",
       "      <td>282.1</td>\n",
       "      <td>67.19</td>\n",
       "      <td>66.45</td>\n",
       "      <td>-0.359</td>\n",
       "    </tr>\n",
       "    <tr>\n",
       "      <th>4</th>\n",
       "      <td>Andres Gonzales</td>\n",
       "      <td>226</td>\n",
       "      <td>73</td>\n",
       "      <td>NaN</td>\n",
       "      <td>1</td>\n",
       "      <td>71.112</td>\n",
       "      <td>299.2</td>\n",
       "      <td>55.75</td>\n",
       "      <td>67.71</td>\n",
       "      <td>0.023</td>\n",
       "    </tr>\n",
       "  </tbody>\n",
       "</table>\n",
       "</div>"
      ],
      "text/plain": [
       "              NAME  POINTS  ROUNDS  # OF WINS  # OF TOP 10'S     AVG  \\\n",
       "0   Aaron Baddeley     325      61        NaN              2  71.483   \n",
       "1      Adam Hadwin     362      98        1.0              5  70.583   \n",
       "2       Adam Scott     642      58        NaN              4  69.996   \n",
       "3       Alex Cejka     276      85        NaN              1  71.461   \n",
       "4  Andres Gonzales     226      73        NaN              1  71.112   \n",
       "\n",
       "   DRIVING AVG.  FWY %  GIR %  AVG STROKES GAINED PUTTING  \n",
       "0         292.6  52.25  62.57                       0.044  \n",
       "1         291.3  63.20  65.08                       0.446  \n",
       "2         307.0  56.65  67.05                       0.054  \n",
       "3         282.1  67.19  66.45                      -0.359  \n",
       "4         299.2  55.75  67.71                       0.023  "
      ]
     },
     "execution_count": 16,
     "metadata": {},
     "output_type": "execute_result"
    }
   ],
   "source": [
    "#Turn columns to numeric\n",
    "df_2017[['POINTS', '# OF WINS', 'ROUNDS', \"# OF TOP 10'S\", 'AVG', 'DRIVING AVG.',\n",
    "       'FWY %', 'GIR %', 'AVG STROKES GAINED PUTTING']] = df_2017[['POINTS', '# OF WINS', 'ROUNDS', \"# OF TOP 10'S\", 'AVG', 'DRIVING AVG.',\n",
    "       'FWY %', 'GIR %', 'AVG STROKES GAINED PUTTING']].apply(pd.to_numeric)\n",
    "\n",
    "df_2017.head()"
   ]
  },
  {
   "cell_type": "code",
   "execution_count": 17,
   "metadata": {},
   "outputs": [
    {
     "name": "stdout",
     "output_type": "stream",
     "text": [
      "<class 'pandas.core.frame.DataFrame'>\n",
      "Int64Index: 160 entries, 0 to 159\n",
      "Data columns (total 10 columns):\n",
      "NAME                          160 non-null object\n",
      "POINTS                        160 non-null int64\n",
      "ROUNDS                        160 non-null int64\n",
      "# OF WINS                     34 non-null float64\n",
      "# OF TOP 10'S                 160 non-null int64\n",
      "AVG                           160 non-null float64\n",
      "DRIVING AVG.                  160 non-null float64\n",
      "FWY %                         160 non-null float64\n",
      "GIR %                         160 non-null float64\n",
      "AVG STROKES GAINED PUTTING    160 non-null float64\n",
      "dtypes: float64(6), int64(3), object(1)\n",
      "memory usage: 18.8+ KB\n",
      "None\n"
     ]
    }
   ],
   "source": [
    "print(df_2017.info())"
   ]
  },
  {
   "cell_type": "markdown",
   "metadata": {},
   "source": [
    "Lastly, the # of wins columns has NaN values for players with zero wins. Want to convert these NaN's to 0's."
   ]
  },
  {
   "cell_type": "code",
   "execution_count": 18,
   "metadata": {
    "collapsed": true
   },
   "outputs": [],
   "source": [
    "df_2017.fillna(0, inplace=True)"
   ]
  },
  {
   "cell_type": "code",
   "execution_count": 19,
   "metadata": {},
   "outputs": [
    {
     "data": {
      "text/html": [
       "<div>\n",
       "<style>\n",
       "    .dataframe thead tr:only-child th {\n",
       "        text-align: right;\n",
       "    }\n",
       "\n",
       "    .dataframe thead th {\n",
       "        text-align: left;\n",
       "    }\n",
       "\n",
       "    .dataframe tbody tr th {\n",
       "        vertical-align: top;\n",
       "    }\n",
       "</style>\n",
       "<table border=\"1\" class=\"dataframe\">\n",
       "  <thead>\n",
       "    <tr style=\"text-align: right;\">\n",
       "      <th></th>\n",
       "      <th>NAME</th>\n",
       "      <th>POINTS</th>\n",
       "      <th>ROUNDS</th>\n",
       "      <th># OF WINS</th>\n",
       "      <th># OF TOP 10'S</th>\n",
       "      <th>AVG</th>\n",
       "      <th>DRIVING AVG.</th>\n",
       "      <th>FWY %</th>\n",
       "      <th>GIR %</th>\n",
       "      <th>AVG STROKES GAINED PUTTING</th>\n",
       "    </tr>\n",
       "  </thead>\n",
       "  <tbody>\n",
       "    <tr>\n",
       "      <th>0</th>\n",
       "      <td>Aaron Baddeley</td>\n",
       "      <td>325</td>\n",
       "      <td>61</td>\n",
       "      <td>0.0</td>\n",
       "      <td>2</td>\n",
       "      <td>71.483</td>\n",
       "      <td>292.6</td>\n",
       "      <td>52.25</td>\n",
       "      <td>62.57</td>\n",
       "      <td>0.044</td>\n",
       "    </tr>\n",
       "    <tr>\n",
       "      <th>1</th>\n",
       "      <td>Adam Hadwin</td>\n",
       "      <td>362</td>\n",
       "      <td>98</td>\n",
       "      <td>1.0</td>\n",
       "      <td>5</td>\n",
       "      <td>70.583</td>\n",
       "      <td>291.3</td>\n",
       "      <td>63.20</td>\n",
       "      <td>65.08</td>\n",
       "      <td>0.446</td>\n",
       "    </tr>\n",
       "    <tr>\n",
       "      <th>2</th>\n",
       "      <td>Adam Scott</td>\n",
       "      <td>642</td>\n",
       "      <td>58</td>\n",
       "      <td>0.0</td>\n",
       "      <td>4</td>\n",
       "      <td>69.996</td>\n",
       "      <td>307.0</td>\n",
       "      <td>56.65</td>\n",
       "      <td>67.05</td>\n",
       "      <td>0.054</td>\n",
       "    </tr>\n",
       "    <tr>\n",
       "      <th>3</th>\n",
       "      <td>Alex Cejka</td>\n",
       "      <td>276</td>\n",
       "      <td>85</td>\n",
       "      <td>0.0</td>\n",
       "      <td>1</td>\n",
       "      <td>71.461</td>\n",
       "      <td>282.1</td>\n",
       "      <td>67.19</td>\n",
       "      <td>66.45</td>\n",
       "      <td>-0.359</td>\n",
       "    </tr>\n",
       "    <tr>\n",
       "      <th>4</th>\n",
       "      <td>Andres Gonzales</td>\n",
       "      <td>226</td>\n",
       "      <td>73</td>\n",
       "      <td>0.0</td>\n",
       "      <td>1</td>\n",
       "      <td>71.112</td>\n",
       "      <td>299.2</td>\n",
       "      <td>55.75</td>\n",
       "      <td>67.71</td>\n",
       "      <td>0.023</td>\n",
       "    </tr>\n",
       "  </tbody>\n",
       "</table>\n",
       "</div>"
      ],
      "text/plain": [
       "              NAME  POINTS  ROUNDS  # OF WINS  # OF TOP 10'S     AVG  \\\n",
       "0   Aaron Baddeley     325      61        0.0              2  71.483   \n",
       "1      Adam Hadwin     362      98        1.0              5  70.583   \n",
       "2       Adam Scott     642      58        0.0              4  69.996   \n",
       "3       Alex Cejka     276      85        0.0              1  71.461   \n",
       "4  Andres Gonzales     226      73        0.0              1  71.112   \n",
       "\n",
       "   DRIVING AVG.  FWY %  GIR %  AVG STROKES GAINED PUTTING  \n",
       "0         292.6  52.25  62.57                       0.044  \n",
       "1         291.3  63.20  65.08                       0.446  \n",
       "2         307.0  56.65  67.05                       0.054  \n",
       "3         282.1  67.19  66.45                      -0.359  \n",
       "4         299.2  55.75  67.71                       0.023  "
      ]
     },
     "execution_count": 19,
     "metadata": {},
     "output_type": "execute_result"
    }
   ],
   "source": [
    "df_2017.head(5)"
   ]
  },
  {
   "cell_type": "markdown",
   "metadata": {},
   "source": [
    "Lastly, I wanted to add a couple binary columns. One indicating if a player has won a tournament that year, and the other indicating if the player has an average driving distance of over 300 yards."
   ]
  },
  {
   "cell_type": "code",
   "execution_count": 20,
   "metadata": {
    "collapsed": true
   },
   "outputs": [],
   "source": [
    "#Add driving 300+ column\n",
    "#Add column if tournament winner\n",
    "df_2017['300+'] = df_2017['DRIVING AVG.'].apply(lambda x: 1 if x>=300 else 0)\n",
    "df_2017['Winner'] = df_2017['# OF WINS'].apply(lambda x: 1 if x >= 1 else 0)"
   ]
  },
  {
   "cell_type": "code",
   "execution_count": 21,
   "metadata": {},
   "outputs": [
    {
     "data": {
      "text/html": [
       "<div>\n",
       "<style>\n",
       "    .dataframe thead tr:only-child th {\n",
       "        text-align: right;\n",
       "    }\n",
       "\n",
       "    .dataframe thead th {\n",
       "        text-align: left;\n",
       "    }\n",
       "\n",
       "    .dataframe tbody tr th {\n",
       "        vertical-align: top;\n",
       "    }\n",
       "</style>\n",
       "<table border=\"1\" class=\"dataframe\">\n",
       "  <thead>\n",
       "    <tr style=\"text-align: right;\">\n",
       "      <th></th>\n",
       "      <th>NAME</th>\n",
       "      <th>POINTS</th>\n",
       "      <th>ROUNDS</th>\n",
       "      <th># OF WINS</th>\n",
       "      <th># OF TOP 10'S</th>\n",
       "      <th>AVG</th>\n",
       "      <th>DRIVING AVG.</th>\n",
       "      <th>FWY %</th>\n",
       "      <th>GIR %</th>\n",
       "      <th>AVG STROKES GAINED PUTTING</th>\n",
       "      <th>300+</th>\n",
       "      <th>Winner</th>\n",
       "    </tr>\n",
       "  </thead>\n",
       "  <tbody>\n",
       "    <tr>\n",
       "      <th>0</th>\n",
       "      <td>Aaron Baddeley</td>\n",
       "      <td>325</td>\n",
       "      <td>61</td>\n",
       "      <td>0.0</td>\n",
       "      <td>2</td>\n",
       "      <td>71.483</td>\n",
       "      <td>292.6</td>\n",
       "      <td>52.25</td>\n",
       "      <td>62.57</td>\n",
       "      <td>0.044</td>\n",
       "      <td>0</td>\n",
       "      <td>0</td>\n",
       "    </tr>\n",
       "    <tr>\n",
       "      <th>1</th>\n",
       "      <td>Adam Hadwin</td>\n",
       "      <td>362</td>\n",
       "      <td>98</td>\n",
       "      <td>1.0</td>\n",
       "      <td>5</td>\n",
       "      <td>70.583</td>\n",
       "      <td>291.3</td>\n",
       "      <td>63.20</td>\n",
       "      <td>65.08</td>\n",
       "      <td>0.446</td>\n",
       "      <td>0</td>\n",
       "      <td>1</td>\n",
       "    </tr>\n",
       "    <tr>\n",
       "      <th>2</th>\n",
       "      <td>Adam Scott</td>\n",
       "      <td>642</td>\n",
       "      <td>58</td>\n",
       "      <td>0.0</td>\n",
       "      <td>4</td>\n",
       "      <td>69.996</td>\n",
       "      <td>307.0</td>\n",
       "      <td>56.65</td>\n",
       "      <td>67.05</td>\n",
       "      <td>0.054</td>\n",
       "      <td>1</td>\n",
       "      <td>0</td>\n",
       "    </tr>\n",
       "    <tr>\n",
       "      <th>3</th>\n",
       "      <td>Alex Cejka</td>\n",
       "      <td>276</td>\n",
       "      <td>85</td>\n",
       "      <td>0.0</td>\n",
       "      <td>1</td>\n",
       "      <td>71.461</td>\n",
       "      <td>282.1</td>\n",
       "      <td>67.19</td>\n",
       "      <td>66.45</td>\n",
       "      <td>-0.359</td>\n",
       "      <td>0</td>\n",
       "      <td>0</td>\n",
       "    </tr>\n",
       "    <tr>\n",
       "      <th>4</th>\n",
       "      <td>Andres Gonzales</td>\n",
       "      <td>226</td>\n",
       "      <td>73</td>\n",
       "      <td>0.0</td>\n",
       "      <td>1</td>\n",
       "      <td>71.112</td>\n",
       "      <td>299.2</td>\n",
       "      <td>55.75</td>\n",
       "      <td>67.71</td>\n",
       "      <td>0.023</td>\n",
       "      <td>0</td>\n",
       "      <td>0</td>\n",
       "    </tr>\n",
       "  </tbody>\n",
       "</table>\n",
       "</div>"
      ],
      "text/plain": [
       "              NAME  POINTS  ROUNDS  # OF WINS  # OF TOP 10'S     AVG  \\\n",
       "0   Aaron Baddeley     325      61        0.0              2  71.483   \n",
       "1      Adam Hadwin     362      98        1.0              5  70.583   \n",
       "2       Adam Scott     642      58        0.0              4  69.996   \n",
       "3       Alex Cejka     276      85        0.0              1  71.461   \n",
       "4  Andres Gonzales     226      73        0.0              1  71.112   \n",
       "\n",
       "   DRIVING AVG.  FWY %  GIR %  AVG STROKES GAINED PUTTING  300+  Winner  \n",
       "0         292.6  52.25  62.57                       0.044     0       0  \n",
       "1         291.3  63.20  65.08                       0.446     0       1  \n",
       "2         307.0  56.65  67.05                       0.054     1       0  \n",
       "3         282.1  67.19  66.45                      -0.359     0       0  \n",
       "4         299.2  55.75  67.71                       0.023     0       0  "
      ]
     },
     "execution_count": 21,
     "metadata": {},
     "output_type": "execute_result"
    }
   ],
   "source": [
    "df_2017.head()"
   ]
  },
  {
   "cell_type": "markdown",
   "metadata": {},
   "source": [
    "# 4. <a id='section_4'>Exploratory Data Analysis</a>\n",
    "<a href='#TOC'>Back to table of Contents</a>\n"
   ]
  },
  {
   "cell_type": "markdown",
   "metadata": {},
   "source": [
    "First, I'll take a look at the .info(), .describe(), and head methods to get a feel for the dataset."
   ]
  },
  {
   "cell_type": "code",
   "execution_count": 22,
   "metadata": {},
   "outputs": [
    {
     "data": {
      "text/html": [
       "<div>\n",
       "<style>\n",
       "    .dataframe thead tr:only-child th {\n",
       "        text-align: right;\n",
       "    }\n",
       "\n",
       "    .dataframe thead th {\n",
       "        text-align: left;\n",
       "    }\n",
       "\n",
       "    .dataframe tbody tr th {\n",
       "        vertical-align: top;\n",
       "    }\n",
       "</style>\n",
       "<table border=\"1\" class=\"dataframe\">\n",
       "  <thead>\n",
       "    <tr style=\"text-align: right;\">\n",
       "      <th></th>\n",
       "      <th>NAME</th>\n",
       "      <th>POINTS</th>\n",
       "      <th>ROUNDS</th>\n",
       "      <th># OF WINS</th>\n",
       "      <th># OF TOP 10'S</th>\n",
       "      <th>AVG</th>\n",
       "      <th>DRIVING AVG.</th>\n",
       "      <th>FWY %</th>\n",
       "      <th>GIR %</th>\n",
       "      <th>AVG STROKES GAINED PUTTING</th>\n",
       "      <th>300+</th>\n",
       "      <th>Winner</th>\n",
       "    </tr>\n",
       "  </thead>\n",
       "  <tbody>\n",
       "    <tr>\n",
       "      <th>0</th>\n",
       "      <td>Aaron Baddeley</td>\n",
       "      <td>325</td>\n",
       "      <td>61</td>\n",
       "      <td>0.0</td>\n",
       "      <td>2</td>\n",
       "      <td>71.483</td>\n",
       "      <td>292.6</td>\n",
       "      <td>52.25</td>\n",
       "      <td>62.57</td>\n",
       "      <td>0.044</td>\n",
       "      <td>0</td>\n",
       "      <td>0</td>\n",
       "    </tr>\n",
       "    <tr>\n",
       "      <th>1</th>\n",
       "      <td>Adam Hadwin</td>\n",
       "      <td>362</td>\n",
       "      <td>98</td>\n",
       "      <td>1.0</td>\n",
       "      <td>5</td>\n",
       "      <td>70.583</td>\n",
       "      <td>291.3</td>\n",
       "      <td>63.20</td>\n",
       "      <td>65.08</td>\n",
       "      <td>0.446</td>\n",
       "      <td>0</td>\n",
       "      <td>1</td>\n",
       "    </tr>\n",
       "    <tr>\n",
       "      <th>2</th>\n",
       "      <td>Adam Scott</td>\n",
       "      <td>642</td>\n",
       "      <td>58</td>\n",
       "      <td>0.0</td>\n",
       "      <td>4</td>\n",
       "      <td>69.996</td>\n",
       "      <td>307.0</td>\n",
       "      <td>56.65</td>\n",
       "      <td>67.05</td>\n",
       "      <td>0.054</td>\n",
       "      <td>1</td>\n",
       "      <td>0</td>\n",
       "    </tr>\n",
       "    <tr>\n",
       "      <th>3</th>\n",
       "      <td>Alex Cejka</td>\n",
       "      <td>276</td>\n",
       "      <td>85</td>\n",
       "      <td>0.0</td>\n",
       "      <td>1</td>\n",
       "      <td>71.461</td>\n",
       "      <td>282.1</td>\n",
       "      <td>67.19</td>\n",
       "      <td>66.45</td>\n",
       "      <td>-0.359</td>\n",
       "      <td>0</td>\n",
       "      <td>0</td>\n",
       "    </tr>\n",
       "    <tr>\n",
       "      <th>4</th>\n",
       "      <td>Andres Gonzales</td>\n",
       "      <td>226</td>\n",
       "      <td>73</td>\n",
       "      <td>0.0</td>\n",
       "      <td>1</td>\n",
       "      <td>71.112</td>\n",
       "      <td>299.2</td>\n",
       "      <td>55.75</td>\n",
       "      <td>67.71</td>\n",
       "      <td>0.023</td>\n",
       "      <td>0</td>\n",
       "      <td>0</td>\n",
       "    </tr>\n",
       "  </tbody>\n",
       "</table>\n",
       "</div>"
      ],
      "text/plain": [
       "              NAME  POINTS  ROUNDS  # OF WINS  # OF TOP 10'S     AVG  \\\n",
       "0   Aaron Baddeley     325      61        0.0              2  71.483   \n",
       "1      Adam Hadwin     362      98        1.0              5  70.583   \n",
       "2       Adam Scott     642      58        0.0              4  69.996   \n",
       "3       Alex Cejka     276      85        0.0              1  71.461   \n",
       "4  Andres Gonzales     226      73        0.0              1  71.112   \n",
       "\n",
       "   DRIVING AVG.  FWY %  GIR %  AVG STROKES GAINED PUTTING  300+  Winner  \n",
       "0         292.6  52.25  62.57                       0.044     0       0  \n",
       "1         291.3  63.20  65.08                       0.446     0       1  \n",
       "2         307.0  56.65  67.05                       0.054     1       0  \n",
       "3         282.1  67.19  66.45                      -0.359     0       0  \n",
       "4         299.2  55.75  67.71                       0.023     0       0  "
      ]
     },
     "execution_count": 22,
     "metadata": {},
     "output_type": "execute_result"
    }
   ],
   "source": [
    "df_2017.head()"
   ]
  },
  {
   "cell_type": "code",
   "execution_count": 23,
   "metadata": {},
   "outputs": [
    {
     "name": "stdout",
     "output_type": "stream",
     "text": [
      "<class 'pandas.core.frame.DataFrame'>\n",
      "Int64Index: 160 entries, 0 to 159\n",
      "Data columns (total 12 columns):\n",
      "NAME                          160 non-null object\n",
      "POINTS                        160 non-null int64\n",
      "ROUNDS                        160 non-null int64\n",
      "# OF WINS                     160 non-null float64\n",
      "# OF TOP 10'S                 160 non-null int64\n",
      "AVG                           160 non-null float64\n",
      "DRIVING AVG.                  160 non-null float64\n",
      "FWY %                         160 non-null float64\n",
      "GIR %                         160 non-null float64\n",
      "AVG STROKES GAINED PUTTING    160 non-null float64\n",
      "300+                          160 non-null int64\n",
      "Winner                        160 non-null int64\n",
      "dtypes: float64(6), int64(5), object(1)\n",
      "memory usage: 21.2+ KB\n"
     ]
    }
   ],
   "source": [
    "df_2017.info()"
   ]
  },
  {
   "cell_type": "markdown",
   "metadata": {},
   "source": [
    "Observations: 160 total rows, no missing data, 9 columns are numeric and the Name column is text."
   ]
  },
  {
   "cell_type": "code",
   "execution_count": 24,
   "metadata": {},
   "outputs": [
    {
     "data": {
      "text/html": [
       "<div>\n",
       "<style>\n",
       "    .dataframe thead tr:only-child th {\n",
       "        text-align: right;\n",
       "    }\n",
       "\n",
       "    .dataframe thead th {\n",
       "        text-align: left;\n",
       "    }\n",
       "\n",
       "    .dataframe tbody tr th {\n",
       "        vertical-align: top;\n",
       "    }\n",
       "</style>\n",
       "<table border=\"1\" class=\"dataframe\">\n",
       "  <thead>\n",
       "    <tr style=\"text-align: right;\">\n",
       "      <th></th>\n",
       "      <th>POINTS</th>\n",
       "      <th>ROUNDS</th>\n",
       "      <th># OF WINS</th>\n",
       "      <th># OF TOP 10'S</th>\n",
       "      <th>AVG</th>\n",
       "      <th>DRIVING AVG.</th>\n",
       "      <th>FWY %</th>\n",
       "      <th>GIR %</th>\n",
       "      <th>AVG STROKES GAINED PUTTING</th>\n",
       "      <th>300+</th>\n",
       "      <th>Winner</th>\n",
       "    </tr>\n",
       "  </thead>\n",
       "  <tbody>\n",
       "    <tr>\n",
       "      <th>count</th>\n",
       "      <td>160.00000</td>\n",
       "      <td>160.000000</td>\n",
       "      <td>160.00000</td>\n",
       "      <td>160.000000</td>\n",
       "      <td>160.000000</td>\n",
       "      <td>160.000000</td>\n",
       "      <td>160.000000</td>\n",
       "      <td>160.000000</td>\n",
       "      <td>160.000000</td>\n",
       "      <td>160.000000</td>\n",
       "      <td>160.000000</td>\n",
       "    </tr>\n",
       "    <tr>\n",
       "      <th>mean</th>\n",
       "      <td>649.57500</td>\n",
       "      <td>81.881250</td>\n",
       "      <td>0.29375</td>\n",
       "      <td>3.212500</td>\n",
       "      <td>70.772094</td>\n",
       "      <td>294.147500</td>\n",
       "      <td>60.610938</td>\n",
       "      <td>65.810125</td>\n",
       "      <td>0.040881</td>\n",
       "      <td>0.256250</td>\n",
       "      <td>0.212500</td>\n",
       "    </tr>\n",
       "    <tr>\n",
       "      <th>std</th>\n",
       "      <td>423.79753</td>\n",
       "      <td>14.799019</td>\n",
       "      <td>0.71460</td>\n",
       "      <td>2.332131</td>\n",
       "      <td>0.620405</td>\n",
       "      <td>8.968933</td>\n",
       "      <td>5.031006</td>\n",
       "      <td>2.333066</td>\n",
       "      <td>0.307692</td>\n",
       "      <td>0.437932</td>\n",
       "      <td>0.410361</td>\n",
       "    </tr>\n",
       "    <tr>\n",
       "      <th>min</th>\n",
       "      <td>98.00000</td>\n",
       "      <td>50.000000</td>\n",
       "      <td>0.00000</td>\n",
       "      <td>1.000000</td>\n",
       "      <td>68.846000</td>\n",
       "      <td>271.400000</td>\n",
       "      <td>45.930000</td>\n",
       "      <td>59.630000</td>\n",
       "      <td>-1.066000</td>\n",
       "      <td>0.000000</td>\n",
       "      <td>0.000000</td>\n",
       "    </tr>\n",
       "    <tr>\n",
       "      <th>25%</th>\n",
       "      <td>360.50000</td>\n",
       "      <td>71.000000</td>\n",
       "      <td>0.00000</td>\n",
       "      <td>1.000000</td>\n",
       "      <td>70.397500</td>\n",
       "      <td>288.075000</td>\n",
       "      <td>57.037500</td>\n",
       "      <td>63.997500</td>\n",
       "      <td>-0.141500</td>\n",
       "      <td>0.000000</td>\n",
       "      <td>0.000000</td>\n",
       "    </tr>\n",
       "    <tr>\n",
       "      <th>50%</th>\n",
       "      <td>542.50000</td>\n",
       "      <td>84.000000</td>\n",
       "      <td>0.00000</td>\n",
       "      <td>3.000000</td>\n",
       "      <td>70.866000</td>\n",
       "      <td>293.950000</td>\n",
       "      <td>60.085000</td>\n",
       "      <td>66.080000</td>\n",
       "      <td>0.032500</td>\n",
       "      <td>0.000000</td>\n",
       "      <td>0.000000</td>\n",
       "    </tr>\n",
       "    <tr>\n",
       "      <th>75%</th>\n",
       "      <td>897.50000</td>\n",
       "      <td>93.000000</td>\n",
       "      <td>0.00000</td>\n",
       "      <td>4.000000</td>\n",
       "      <td>71.163250</td>\n",
       "      <td>300.150000</td>\n",
       "      <td>63.970000</td>\n",
       "      <td>67.265000</td>\n",
       "      <td>0.274500</td>\n",
       "      <td>1.000000</td>\n",
       "      <td>0.000000</td>\n",
       "    </tr>\n",
       "    <tr>\n",
       "      <th>max</th>\n",
       "      <td>3000.00000</td>\n",
       "      <td>112.000000</td>\n",
       "      <td>5.00000</td>\n",
       "      <td>12.000000</td>\n",
       "      <td>72.803000</td>\n",
       "      <td>317.200000</td>\n",
       "      <td>72.730000</td>\n",
       "      <td>70.640000</td>\n",
       "      <td>0.840000</td>\n",
       "      <td>1.000000</td>\n",
       "      <td>1.000000</td>\n",
       "    </tr>\n",
       "  </tbody>\n",
       "</table>\n",
       "</div>"
      ],
      "text/plain": [
       "           POINTS      ROUNDS  # OF WINS  # OF TOP 10'S         AVG  \\\n",
       "count   160.00000  160.000000  160.00000     160.000000  160.000000   \n",
       "mean    649.57500   81.881250    0.29375       3.212500   70.772094   \n",
       "std     423.79753   14.799019    0.71460       2.332131    0.620405   \n",
       "min      98.00000   50.000000    0.00000       1.000000   68.846000   \n",
       "25%     360.50000   71.000000    0.00000       1.000000   70.397500   \n",
       "50%     542.50000   84.000000    0.00000       3.000000   70.866000   \n",
       "75%     897.50000   93.000000    0.00000       4.000000   71.163250   \n",
       "max    3000.00000  112.000000    5.00000      12.000000   72.803000   \n",
       "\n",
       "       DRIVING AVG.       FWY %       GIR %  AVG STROKES GAINED PUTTING  \\\n",
       "count    160.000000  160.000000  160.000000                  160.000000   \n",
       "mean     294.147500   60.610938   65.810125                    0.040881   \n",
       "std        8.968933    5.031006    2.333066                    0.307692   \n",
       "min      271.400000   45.930000   59.630000                   -1.066000   \n",
       "25%      288.075000   57.037500   63.997500                   -0.141500   \n",
       "50%      293.950000   60.085000   66.080000                    0.032500   \n",
       "75%      300.150000   63.970000   67.265000                    0.274500   \n",
       "max      317.200000   72.730000   70.640000                    0.840000   \n",
       "\n",
       "             300+      Winner  \n",
       "count  160.000000  160.000000  \n",
       "mean     0.256250    0.212500  \n",
       "std      0.437932    0.410361  \n",
       "min      0.000000    0.000000  \n",
       "25%      0.000000    0.000000  \n",
       "50%      0.000000    0.000000  \n",
       "75%      1.000000    0.000000  \n",
       "max      1.000000    1.000000  "
      ]
     },
     "execution_count": 24,
     "metadata": {},
     "output_type": "execute_result"
    }
   ],
   "source": [
    "df_2017.describe()"
   ]
  },
  {
   "cell_type": "markdown",
   "metadata": {},
   "source": [
    "Observations: \n",
    "<ul>\n",
    "<li>Most wins by one player in 2017 was 5</li>\n",
    "<li>Avg driving distance among all players was 294 yards</li>\n",
    "<li>Scoring average was 70.77</li>\n",
    "</ul>"
   ]
  },
  {
   "cell_type": "markdown",
   "metadata": {},
   "source": [
    "##### Let's see if we can uncover any relationships in the data with some visualizations"
   ]
  },
  {
   "cell_type": "code",
   "execution_count": 25,
   "metadata": {
    "collapsed": true
   },
   "outputs": [],
   "source": [
    "#Import plotting libs\n",
    "import seaborn as sns\n",
    "import matplotlib.pyplot as plt\n",
    "%matplotlib inline"
   ]
  },
  {
   "cell_type": "code",
   "execution_count": 26,
   "metadata": {},
   "outputs": [
    {
     "data": {
      "text/plain": [
       "<matplotlib.axes._subplots.AxesSubplot at 0x228a6c7c550>"
      ]
     },
     "execution_count": 26,
     "metadata": {},
     "output_type": "execute_result"
    },
    {
     "data": {
      "image/png": "[encoded data removed]",
      "text/plain": [
       "<matplotlib.figure.Figure at 0x228a6c59f98>"
      ]
     },
     "metadata": {},
     "output_type": "display_data"
    }
   ],
   "source": [
    "sns.heatmap(df_2017.corr(),cmap='coolwarm',annot=True)"
   ]
  },
  {
   "cell_type": "markdown",
   "metadata": {},
   "source": [
    "Observations: \n",
    "<ul>\n",
    "<li>Scoring Avg and # of top 10's are highly negatively correlated with each other</li>\n",
    "<li>Avg. Driving Distance and FWY% are highly negatively correlate</li>\n",
    "<li>Scoring average was 70.77</li>\n",
    "</ul>\n"
   ]
  },
  {
   "cell_type": "code",
   "execution_count": 27,
   "metadata": {},
   "outputs": [
    {
     "data": {
      "text/plain": [
       "<matplotlib.axes._subplots.AxesSubplot at 0x228a4b9d1d0>"
      ]
     },
     "execution_count": 27,
     "metadata": {},
     "output_type": "execute_result"
    },
    {
     "data": {
      "image/png": "[encoded data removed]",
      "text/plain": [
       "<matplotlib.figure.Figure at 0x228a4b9d9e8>"
      ]
     },
     "metadata": {},
     "output_type": "display_data"
    }
   ],
   "source": [
    "sns.distplot(df_2017['AVG'])"
   ]
  },
  {
   "cell_type": "markdown",
   "metadata": {},
   "source": [
    "Scored look approximately normally distributed, maybe one outlier on the higer end."
   ]
  },
  {
   "cell_type": "code",
   "execution_count": 28,
   "metadata": {},
   "outputs": [
    {
     "data": {
      "text/plain": [
       "[(60, 75),\n",
       " Text(0,0.5,'Scoring Average'),\n",
       " Text(0.5,1,\"# of top 10's vs scoring average\")]"
      ]
     },
     "execution_count": 28,
     "metadata": {},
     "output_type": "execute_result"
    },
    {
     "data": {
      "image/png": "[encoded data removed]",
      "text/plain": [
       "<matplotlib.figure.Figure at 0x228a4d846a0>"
      ]
     },
     "metadata": {},
     "output_type": "display_data"
    }
   ],
   "source": [
    "bp = sns.barplot(x=\"# OF TOP 10'S\",y='AVG', data = df_2017)\n",
    "bp.set(ylim=(60, 75), title=\"# of top 10's vs scoring average\", ylabel=\"Scoring Average\")"
   ]
  },
  {
   "cell_type": "markdown",
   "metadata": {},
   "source": [
    "We can now see this correlation between top 10's and scoring average graphically."
   ]
  },
  {
   "cell_type": "code",
   "execution_count": 29,
   "metadata": {},
   "outputs": [
    {
     "data": {
      "text/plain": [
       "[Text(0,0.5,'Fedex Cup Points'),\n",
       " Text(0.5,1,\"# of top 10's vs Fedex Cup Points\")]"
      ]
     },
     "execution_count": 29,
     "metadata": {},
     "output_type": "execute_result"
    },
    {
     "data": {
      "image/png": "[encoded data removed]",
      "text/plain": [
       "<matplotlib.figure.Figure at 0x228a50a9630>"
      ]
     },
     "metadata": {},
     "output_type": "display_data"
    }
   ],
   "source": [
    "bp = sns.barplot(x=\"# OF TOP 10'S\",y='POINTS', data = df_2017)\n",
    "bp.set(title=\"# of top 10's vs Fedex Cup Points\", ylabel=\"Fedex Cup Points\")"
   ]
  },
  {
   "cell_type": "markdown",
   "metadata": {},
   "source": [
    "Here's a different look at fedex cup points vs # of top 10's."
   ]
  },
  {
   "cell_type": "code",
   "execution_count": 30,
   "metadata": {},
   "outputs": [
    {
     "data": {
      "text/plain": [
       "<matplotlib.axes._subplots.AxesSubplot at 0x228a64a7ef0>"
      ]
     },
     "execution_count": 30,
     "metadata": {},
     "output_type": "execute_result"
    },
    {
     "data": {
      "image/png": "[encoded data removed]",
      "text/plain": [
       "<matplotlib.figure.Figure at 0x228a4d970f0>"
      ]
     },
     "metadata": {},
     "output_type": "display_data"
    }
   ],
   "source": [
    "sns.violinplot(x = '300+', y = 'AVG', data = df_2017)"
   ]
  },
  {
   "cell_type": "code",
   "execution_count": 31,
   "metadata": {},
   "outputs": [
    {
     "data": {
      "text/html": [
       "<div>\n",
       "<style>\n",
       "    .dataframe thead tr:only-child th {\n",
       "        text-align: right;\n",
       "    }\n",
       "\n",
       "    .dataframe thead th {\n",
       "        text-align: left;\n",
       "    }\n",
       "\n",
       "    .dataframe tbody tr th {\n",
       "        vertical-align: top;\n",
       "    }\n",
       "</style>\n",
       "<table border=\"1\" class=\"dataframe\">\n",
       "  <thead>\n",
       "    <tr style=\"text-align: right;\">\n",
       "      <th></th>\n",
       "      <th>300+</th>\n",
       "      <th>AVG</th>\n",
       "    </tr>\n",
       "  </thead>\n",
       "  <tbody>\n",
       "    <tr>\n",
       "      <th>0</th>\n",
       "      <td>0</td>\n",
       "      <td>70.854521</td>\n",
       "    </tr>\n",
       "    <tr>\n",
       "      <th>1</th>\n",
       "      <td>1</td>\n",
       "      <td>70.532854</td>\n",
       "    </tr>\n",
       "  </tbody>\n",
       "</table>\n",
       "</div>"
      ],
      "text/plain": [
       "   300+        AVG\n",
       "0     0  70.854521\n",
       "1     1  70.532854"
      ]
     },
     "execution_count": 31,
     "metadata": {},
     "output_type": "execute_result"
    }
   ],
   "source": [
    "df_2017.groupby('300+').mean()[['AVG']].reset_index()"
   ]
  },
  {
   "cell_type": "code",
   "execution_count": 32,
   "metadata": {},
   "outputs": [
    {
     "data": {
      "image/png": "[encoded data removed]",
      "text/plain": [
       "<matplotlib.figure.Figure at 0x228a7154208>"
      ]
     },
     "metadata": {},
     "output_type": "display_data"
    }
   ],
   "source": [
    "f, ax = plt.subplots(nrows = 2, ncols = 4, figsize=(15,20))\n",
    "columns = ['POINTS', \"# OF TOP 10'S\", 'AVG', 'DRIVING AVG.', 'FWY %', 'GIR %', 'AVG STROKES GAINED PUTTING']\n",
    "row = 0\n",
    "col = 0\n",
    "for i, column in enumerate(columns):\n",
    "    g = sns.boxplot(x='Winner', y=column, ax=ax[row][col], data=df_2017)\n",
    "    g.set(title = \"Winner Vs. \" + column)\n",
    "    col += 1\n",
    "    if col == 4:\n",
    "        col = 0\n",
    "        row += 1\n",
    "        \n",
    "plt.subplots_adjust(left=None, bottom=None, right=1, top=None, wspace=.4, hspace=None)\n"
   ]
  },
  {
   "cell_type": "markdown",
   "metadata": {},
   "source": [
    "# 5. <a id='section_5'>Train, fit, and test machine learning model</a>\n",
    "<a href='#TOC'>Back to table of Contents</a>"
   ]
  },
  {
   "cell_type": "markdown",
   "metadata": {},
   "source": [
    "In order to predict winners from the 2017 season, I'm going to use a logistic regression model. The steps I will take to build this model are listed below.\n",
    "<ol>\n",
    "<li>Import machine learning modules</li>\n",
    "<li>Select features to run model on</li>\n",
    "<li>Separate data into training and testing sets</li>\n",
    "<li>Build model and create predictions</li>\n",
    "</ol>\n"
   ]
  },
  {
   "cell_type": "markdown",
   "metadata": {},
   "source": [
    "### Import machine learning modules"
   ]
  },
  {
   "cell_type": "code",
   "execution_count": 33,
   "metadata": {
    "collapsed": true
   },
   "outputs": [],
   "source": [
    "from sklearn.model_selection import train_test_split #Train test splits\n",
    "from sklearn.linear_model import LogisticRegression #Logistic regression\n",
    "from sklearn.metrics import classification_report #Classification report metrics\n",
    "from sklearn.metrics import confusion_matrix #Confusion matrix"
   ]
  },
  {
   "cell_type": "markdown",
   "metadata": {},
   "source": [
    "### Select features to run model on"
   ]
  },
  {
   "cell_type": "markdown",
   "metadata": {},
   "source": [
    "I'd like to run this model on all of the numerical columns except for # of wins. I'm leaving out # of wins because that inherently will predict a winner perfectly because if they do have any wins on the year, the model will predict them as a winner. "
   ]
  },
  {
   "cell_type": "code",
   "execution_count": 34,
   "metadata": {},
   "outputs": [
    {
     "name": "stdout",
     "output_type": "stream",
     "text": [
      "Index(['NAME', 'POINTS', 'ROUNDS', '# OF WINS', '# OF TOP 10'S', 'AVG',\n",
      "       'DRIVING AVG.', 'FWY %', 'GIR %', 'AVG STROKES GAINED PUTTING', '300+',\n",
      "       'Winner'],\n",
      "      dtype='object')\n"
     ]
    }
   ],
   "source": [
    "print(df_2017.columns)"
   ]
  },
  {
   "cell_type": "code",
   "execution_count": 74,
   "metadata": {},
   "outputs": [],
   "source": [
    "X = df_2017[['POINTS', 'ROUNDS', \"# OF TOP 10'S\", 'AVG',\n",
    "       'DRIVING AVG.', 'FWY %', 'GIR %', 'AVG STROKES GAINED PUTTING', '300+']]\n",
    "y = df_2017['Winner']"
   ]
  },
  {
   "cell_type": "markdown",
   "metadata": {},
   "source": [
    "### Separate data into Training and Testing data sets"
   ]
  },
  {
   "cell_type": "code",
   "execution_count": 75,
   "metadata": {
    "collapsed": true
   },
   "outputs": [],
   "source": [
    "X_train, X_test, y_train, y_test = train_test_split(X, y, test_size=0.4, random_state=42)"
   ]
  },
  {
   "cell_type": "markdown",
   "metadata": {},
   "source": [
    "### Build model and create predictions"
   ]
  },
  {
   "cell_type": "code",
   "execution_count": 76,
   "metadata": {},
   "outputs": [
    {
     "data": {
      "text/plain": [
       "LogisticRegression(C=1.0, class_weight=None, dual=False, fit_intercept=True,\n",
       "          intercept_scaling=1, max_iter=100, multi_class='ovr', n_jobs=1,\n",
       "          penalty='l2', random_state=None, solver='liblinear', tol=0.0001,\n",
       "          verbose=0, warm_start=False)"
      ]
     },
     "execution_count": 76,
     "metadata": {},
     "output_type": "execute_result"
    }
   ],
   "source": [
    "logmodel = LogisticRegression()\n",
    "logmodel.fit(X_train,y_train)"
   ]
  },
  {
   "cell_type": "code",
   "execution_count": 77,
   "metadata": {
    "collapsed": true
   },
   "outputs": [],
   "source": [
    "predictions = logmodel.predict(X_test)"
   ]
  },
  {
   "cell_type": "code",
   "execution_count": 78,
   "metadata": {},
   "outputs": [
    {
     "data": {
      "text/plain": [
       "array([0, 0, 0, 0, 1, 0, 0, 0, 0, 0, 0, 1, 0, 0, 0, 0, 0, 0, 0, 0, 0, 0, 0,\n",
       "       0, 0, 0, 0, 0, 0, 0, 0, 0, 0, 0, 0, 0, 0, 0, 0, 0, 0, 0, 0, 0, 0, 0,\n",
       "       0, 1, 0, 0, 0, 0, 0, 0, 0, 0, 0, 0, 0, 0, 0, 0, 0, 0], dtype=int64)"
      ]
     },
     "execution_count": 78,
     "metadata": {},
     "output_type": "execute_result"
    }
   ],
   "source": [
    "predictions"
   ]
  },
  {
   "cell_type": "code",
   "execution_count": 79,
   "metadata": {},
   "outputs": [],
   "source": [
    "cf_dat = confusion_matrix(y_test, predictions)"
   ]
  },
  {
   "cell_type": "code",
   "execution_count": 80,
   "metadata": {},
   "outputs": [],
   "source": [
    "confusion = pd.DataFrame(data = cf_dat)"
   ]
  },
  {
   "cell_type": "code",
   "execution_count": 81,
   "metadata": {},
   "outputs": [
    {
     "data": {
      "text/html": [
       "<div>\n",
       "<style>\n",
       "    .dataframe thead tr:only-child th {\n",
       "        text-align: right;\n",
       "    }\n",
       "\n",
       "    .dataframe thead th {\n",
       "        text-align: left;\n",
       "    }\n",
       "\n",
       "    .dataframe tbody tr th {\n",
       "        vertical-align: top;\n",
       "    }\n",
       "</style>\n",
       "<table border=\"1\" class=\"dataframe\">\n",
       "  <thead>\n",
       "    <tr style=\"text-align: right;\">\n",
       "      <th></th>\n",
       "      <th>0</th>\n",
       "      <th>1</th>\n",
       "    </tr>\n",
       "  </thead>\n",
       "  <tbody>\n",
       "    <tr>\n",
       "      <th>0</th>\n",
       "      <td>54</td>\n",
       "      <td>1</td>\n",
       "    </tr>\n",
       "    <tr>\n",
       "      <th>1</th>\n",
       "      <td>7</td>\n",
       "      <td>2</td>\n",
       "    </tr>\n",
       "  </tbody>\n",
       "</table>\n",
       "</div>"
      ],
      "text/plain": [
       "    0  1\n",
       "0  54  1\n",
       "1   7  2"
      ]
     },
     "execution_count": 81,
     "metadata": {},
     "output_type": "execute_result"
    }
   ],
   "source": [
    "confusion"
   ]
  },
  {
   "cell_type": "markdown",
   "metadata": {},
   "source": [
    "For the confusion matrix above, the columns represent what the model predicts and the rows represent the true classification. Based on this confusion matrix, the model predicts true non winners correctly (54)/(54+1) = 98% of the time while it predicts winners 2/(2+7) = 22% of the time.  "
   ]
  },
  {
   "cell_type": "code",
   "execution_count": 82,
   "metadata": {},
   "outputs": [
    {
     "name": "stdout",
     "output_type": "stream",
     "text": [
      "             precision    recall  f1-score   support\n",
      "\n",
      "          0       0.89      0.98      0.93        55\n",
      "          1       0.67      0.22      0.33         9\n",
      "\n",
      "avg / total       0.85      0.88      0.85        64\n",
      "\n"
     ]
    }
   ],
   "source": [
    "print(classification_report(y_test, predictions))"
   ]
  },
  {
   "cell_type": "markdown",
   "metadata": {
    "collapsed": true
   },
   "source": [
    "# Conclusion"
   ]
  },
  {
   "cell_type": "markdown",
   "metadata": {},
   "source": [
    "Based on these results, the logistic regression model does not appear to be performing well for predicting tournament winners. I believe next steps to improving model quality would be to gather more features to run the model on, use a variable selection method to select important features (such as PCA, or lasso/ridge/elastic net) and run a model on the most important features. Additionally I would use cross validation in order to reduce the chance that the results we are seeing are due to overfitting from noise in the data. "
   ]
  },
  {
   "cell_type": "code",
   "execution_count": null,
   "metadata": {
    "collapsed": true
   },
   "outputs": [],
   "source": []
  }
 ],
 "metadata": {
  "kernelspec": {
   "display_name": "Python 3",
   "language": "python",
   "name": "python3"
  },
  "language_info": {
   "codemirror_mode": {
    "name": "ipython",
    "version": 3
   },
   "file_extension": ".py",
   "mimetype": "text/x-python",
   "name": "python",
   "nbconvert_exporter": "python",
   "pygments_lexer": "ipython3",
   "version": "3.6.3"
  }
 },
 "nbformat": 4,
 "nbformat_minor": 2
}
